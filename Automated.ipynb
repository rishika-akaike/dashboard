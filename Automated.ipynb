{
 "cells": [
  {
   "cell_type": "code",
   "execution_count": 1,
   "id": "fa48f07f-5672-484a-ba94-4ba5c25dd414",
   "metadata": {},
   "outputs": [
    {
     "data": {
      "text/plain": [
       "'C:\\\\Users\\\\HP\\\\Desktop\\\\Akaike\\\\Basics'"
      ]
     },
     "execution_count": 1,
     "metadata": {},
     "output_type": "execute_result"
    }
   ],
   "source": [
    "import os\n",
    "os.chdir('C:\\\\Users\\\\HP\\\\Desktop\\\\Akaike\\\\Basics')\n",
    "os.getcwd()"
   ]
  },
  {
   "cell_type": "code",
   "execution_count": 2,
   "id": "0e68ef53-db86-415f-a213-68e8ca9c3846",
   "metadata": {},
   "outputs": [
    {
     "data": {
      "text/plain": [
       "True"
      ]
     },
     "execution_count": 2,
     "metadata": {},
     "output_type": "execute_result"
    }
   ],
   "source": [
    "import pandas as pd\n",
    "import json\n",
    "from dotenv import load_dotenv\n",
    "import re\n",
    "import copy\n",
    "import plotly.graph_objects as go\n",
    "from langchain_community.chat_models import  ChatOpenAI\n",
    "from langchain.schema import HumanMessage, SystemMessage\n",
    "load_dotenv(\".env\")\n"
   ]
  },
  {
   "cell_type": "markdown",
   "id": "c45d222f-ba32-4d6d-9214-b4db0942ce37",
   "metadata": {},
   "source": [
    "## automatic metrics part "
   ]
  },
  {
   "cell_type": "code",
   "execution_count": 3,
   "id": "e23bdae8-d035-4303-b4c8-b098a628a3f4",
   "metadata": {},
   "outputs": [],
   "source": [
    "#  def metrics_for_table_prompt( df_head: str, df_shape: str = '', df_nunique: str = '',\n",
    "#                                  column_description: str = \"\"):\n",
    "#         prompt = '''\n",
    "# Consider yourself as a business Analyst and user as a business stakeholder.\n",
    "# You will be given, head(1st 5 rows) of the dataset, no. of unique values in the each column.\n",
    "# You are tasked to do the following:\n",
    "# - Understand the type of data given and basis that generate useful metrics for the business stakeholder strictly based on given data\n",
    "# - The metrics you come up with can be of the following categories:\n",
    "#     - Aggregates: Single number aggreagates based the dataset. For eg: Total Profit, Average order value, etc.\n",
    "#     - Time Series: In case, data contains some time series, give metrics which highlight trends over time. For Example: category wise sales month on month, average closing value every quarter  etc.\n",
    "#     - Group Aggregation: In case of categorical data, analysis based on that value can also be useful. For eg: Average order value per Product category, Age Group wise sales Analysis. Profit Across gender\n",
    "#     - Combination: Combination of Time Series and Group Aggregation\n",
    "# - Make sure Metrics are useful to the stakeholder and not gibberish\n",
    "# Example for Reference:\n",
    "# Head of the dataset:\n",
    "# 'Order_Date,Time,Aging,Customer_Id,Gender,Device_Type,Customer_Login_type,Product_Category,Product,Sales,Quantity,Discount,Profit,Shipping_Cost,Order_Priority,Payment_method\\n2018-01-02,10:56:33,8.0,37077,Female,Web,Member,Auto & Accessories,Car Media Players,140.0,1.0,0.3,46.0,4.6,Medium,credit_card\\n2018-07-24,20:41:37,2.0,59173,Female,Web,Member,Auto & Accessories,Car Speakers,211.0,1.0,0.3,112.0,11.2,Medium,credit_card\\n2018-11-08,08:38:49,8.0,41066,Female,Web,Member,Auto & Accessories,Car Body Covers,117.0,5.0,0.1,31.2,3.1,Critical,credit_card\\n2018-04-18,19:28:06,7.0,50741,Female,Web,Member,Auto & Accessories,Car & Bike Care,118.0,1.0,0.3,26.2,2.6,High,credit_card\\n2018-08-13,21:18:39,9.0,53639,Female,Web,Member,Auto & Accessories,Tyre,250.0,1.0,0.3,160.0,16.0,Critical,credit_card\\n'\n",
<<<<<<< HEAD
    "# shape of the dataset: (5,16)\n",
=======
    "# shape of the dataset: (51290,16)\n",
>>>>>>> origin/main
    "# No. of unique values per column:\n",
    "# 'Order_Date 356\\nTime 35275\\nAging 11\\nCustomer_Id38997\\nGender 2\\nDevice_Type2\\nCustomer_Login_type4\\nProduct_Category 4\\nProduct 42\\nSales 39\\nQuantity 5\\nDiscount 5\\nProfit 391\\nShipping_Cost153\\nOrder_Priority 4\\nPayment_method 5'\n",
    "\n",
    "# Thought: This is a sales dataset for my stakeholder, metrics related to Average Profit(Aggregates), Average Sales(Aggregates), Average Shipping_Cost(Aggregates),Month on Month Trends of Sales/profit/Shipping cost(Time Series), this can be best visualized through line charts,Sales/Profit/Average order value Across payment method/Device_Type/Order_Priority(Group Aggregation), these can be best visualized through either bar plots of grouped bar plots or pie charts or stacked chart based on number of unique values.Trend of Sales across males and females over time (combination), this can be analyzed threough multiline line charts\n",
    "# Result :{{\"aggregates\":[\"Average Profit\", \"Average Sales\", \"Average Shipping_Cost\"],\"time_series\":[{{\"metric\": \"Month on month sales_trend\",\"chart_type\":\"line\",groupby=None}},...],\"group_aggregation\":[{{\"metric\":\"Revenue per payment method\",\"chart_type\":\"bar\"}}],\"combination\"[{{\"metric\":\"Sales across gender over time\",\"chart_type\":\"multiline\"}}]}}\n",
    "\n",
    "# Important Points to Note:\n",
    "# - All datasets might not have all the 3 types of metrics, leave it as blank list in such cases\n",
    "# - Maximum possible number of unique values for the column to be considered for group aggregates is 8\n",
    "# - Chart types given in thought are only for reference, you may give other chart types which could help visualize metric better based on number of unique values and shape of the dataset,like box plot, pie chartetc.\n",
    "# - possible chart types include ['line', 'bar', 'area', 'histogram', 'pie', 'stacked_bar', 'multiline'(combination of group aggregate and time series), 'grouped_bar']\n",
    "# - Different metrics of a Metric type can have different visualizations\n",
    "# - Give metrics name in a professional and formal manner, remember a business stakeholder has to see it.\n",
    "# - Give atmost 4 metrics for each catgory\n",
    "# - Use the same structure as given in the above example, JSON keys should exactly be as mentioned\n",
    "# - Make sure that the output is json serizable, need to directly use json.loads on the output\n",
    "# Here is what you have:\n",
    "# Head of the dataset:\n",
    "# {df_head}\n",
    "# column description:{column_description}\n",
    "# shape of the dataset: {df_shape}\n",
    "# No. of unique values per column:\n",
    "# {df_nunique}\n",
    "# Result:\n",
    "#         '''\n",
    "#         return prompt.format(df_head=df_head, column_description=column_description, df_shape=df_shape,\n",
    "#                                      df_nunique=df_nunique)\n"
   ]
  },
  {
   "cell_type": "code",
<<<<<<< HEAD
   "execution_count": 4,
=======
   "execution_count": 17,
>>>>>>> origin/main
   "id": "71c40043-c8bf-4665-9917-d9c2bc5c18ab",
   "metadata": {},
   "outputs": [],
   "source": [
<<<<<<< HEAD
    "# def metrics_for_table_prompt(df_head: str, df_info: str, df_shape: str = '', df_nunique: str = '', column_description: str = \"\"):\n",
    "#     prompt = '''\n",
    "#     Consider yourself as a business analyst and the user as a business stakeholder.\n",
    "#     You will be given the head (1st 5 rows) of the dataset, the number of unique values in each column.\n",
    "#     You are tasked to do the following:\n",
    "#     - Understand the type of data given and based on that generate useful metrics for the business stakeholder strictly based on the given data.\n",
    "#     - The metrics you come up with can be of the following categories:\n",
    "#         - Aggregates: Single number aggregates based on the dataset. For example: Total Profit, Average order value, etc.\n",
    "#         - Time Series: In case the data contains some time series, give metrics which highlight trends over time. For example: category-wise sales month on month, average closing value every quarter, etc.\n",
    "#         - Group Aggregation: In case of categorical data, analysis based on that value can also be useful. For example: Average order value per Product category, Age Group wise sales Analysis, Profit Across gender, etc.\n",
    "#         - Combination: Combination of Time Series and Group Aggregation.\n",
    "#     - Make sure Metrics are useful to the stakeholder and not gibberish.\n",
    "#      Example for Reference:\n",
    "#     Head of the dataset:\n",
    "#     'Order_Date,Time,Aging,Customer_Id,Gender,Device_Type,Customer_Login_type,Product_Category,Product,Sales,Quantity,Discount,Profit,Shipping_Cost,Order_Priority,Payment_method\\n2018-01-02,10:56:33,8.0,37077,Female,Web,Member,Auto & Accessories,Car Media Players,140.0,1.0,0.3,46.0,4.6,Medium,credit_card\\n2018-07-24,20:41:37,2.0,59173,Female,Web,Member,Auto & Accessories,Car Speakers,211.0,1.0,0.3,112.0,11.2,Medium,credit_card\\n2018-11-08,08:38:49,8.0,41066,Female,Web,Member,Auto & Accessories,Car Body Covers,117.0,5.0,0.1,31.2,3.1,Critical,credit_card\\n2018-04-18,19:28:06,7.0,50741,Female,Web,Member,Auto & Accessories,Car & Bike Care,118.0,1.0,0.3,26.2,2.6,High,credit_card\\n2018-08-13,21:18:39,9.0,53639,Female,Web,Member,Auto & Accessories,Tyre,250.0,1.0,0.3,160.0,16.0,Critical,credit_card\\n'\n",
    "#     shape of the dataset: (51290,16)\n",
    "#     No. of unique values per column:\n",
    "#     'Order_Date 356\\nTime 35275\\nAging 11\\nCustomer_Id38997\\nGender 2\\nDevice_Type2\\nCustomer_Login_type4\\nProduct_Category 4\\nProduct 42\\nSales 39\\nQuantity 5\\nDiscount 5\\nProfit 391\\nShipping_Cost153\\nOrder_Priority 4\\nPayment_method 5'\n",
    "#     Info of the dataset:\n",
    "#     'Order_Date,51290,non-null,object,Time,51290,non-null,object,Aging,51289,non-null,float64,Customer_Id,51290,non-null,int64,Gender,51290,non-null,object,Device_Type,51290,non-null,object,Customer_Login_type,51290,non-null,object,Product_Category,51290,non-null,object,Product,51290,non-null,object,Sales,51289,non-null,float64,Quantity,51288,non-null,float64,Discount,51289,non-null,float64,Profit,51290,non-null,float64,Shipping_Cost,51289,non-null,float64,Order_Priority,51288,non-null,object,Payment_method,51290,non-null,object'\n",
    "    \n",
    "#     Thought: This is a sales dataset for my stakeholder, metrics related to Average Profit(Aggregates), Average Sales(Aggregates), Average Shipping_Cost(Aggregates),Month on Month Trends of Sales/profit/Shipping cost(Time Series), this can be best visualized through line charts,Sales/Profit/Average order value Across payment method/Device_Type/Order_Priority(Group Aggregation), these can be best visualized through either bar plots of grouped bar plots or pie charts or stacked chart based on number of unique values.Trend of Sales across males and females over time (combination), this can be analyzed threough multiline line charts'\n",
    "#     Result :{{\"aggregates\":[\"Average Profit\", \"Average Sales\", \"Average Shipping_Cost\"],\"time_series\":[{{\"metric\": \"Month on month sales_trend\",\"chart_type\":\"line\",groupby=None}},...],\"group_aggregation\":[{{\"metric\":\"Revenue per payment method\",\"chart_type\":\"bar\"}}],\"combination\"[{{\"metric\":\"Sales across gender over time\",\"chart_type\":\"multiline\"}}]}}\n",
    "\n",
    "\n",
    "#     Important Points to Note:\n",
    "#     - All datasets might not have all the 3 types of metrics, leave it as a blank list in such cases.\n",
    "#     - Maximum possible number of unique values for the column to be considered for group aggregates is 8.\n",
    "#     - Chart types given in thought are only for reference; you may give other chart types which could help visualize metrics better based on the number of unique values and the shape of the dataset, like box plot, pie chart, etc.\n",
    "#     - Possible chart types include ['line', 'bar', 'area', 'histogram', 'pie', 'stacked_bar', 'multiline' (combination of group aggregate and time series), 'grouped_bar'].\n",
    "#     - Different metrics of a Metric type can have different visualizations.\n",
    "#     - Give metrics names in a professional and formal manner; remember a business stakeholder has to see it.\n",
    "#     - Give at most 4 metrics for each category.\n",
    "#     - Avoid redundancy in metrics; choose the most informative and unique metrics.\n",
    "#     - Use the same structure as given in the above example; JSON keys should be exactly as mentioned.\n",
    "#     - Make sure that the output is JSON serializable; need to directly use json.loads on the output.\n",
    "#     Here is what you have:\n",
    "#     Head of the dataset:\n",
    "#     {df_head}\n",
    "#     Column description: {column_description}\n",
    "#     Shape of the dataset: {df_shape}\n",
    "#     No. of unique values per column:\n",
    "#     {df_nunique}\n",
    "#     Info of the dataset:\n",
    "#     {df_info}\n",
    "#     Result:\n",
    "#     '''\n",
    "#     return prompt.format(df_head=df_head, column_description=column_description, df_shape=df_shape,\n",
    "#                          df_nunique=df_nunique, df_info=df_info)\n"
   ]
  },
  {
   "cell_type": "code",
   "execution_count": 5,
   "id": "47678c1a-ae06-452b-9f8d-a015ece51179",
   "metadata": {},
   "outputs": [],
   "source": [
=======
>>>>>>> origin/main
    "def metrics_for_table_prompt(df_head: str, df_info: str, df_shape: str = '', df_nunique: str = '', column_description: str = \"\"):\n",
    "    prompt = '''\n",
    "    Consider yourself as a business analyst and the user as a business stakeholder.\n",
    "    You will be given the head (1st 5 rows) of the dataset, the number of unique values in each column.\n",
    "    You are tasked to do the following:\n",
    "    - Understand the type of data given and based on that generate useful metrics for the business stakeholder strictly based on the given data.\n",
    "    - The metrics you come up with can be of the following categories:\n",
    "        - Aggregates: Single number aggregates based on the dataset. For example: Total Profit, Average order value, etc.\n",
    "        - Time Series: In case the data contains some time series, give metrics which highlight trends over time. For example: category-wise sales month on month, average closing value every quarter, etc.\n",
    "        - Group Aggregation: In case of categorical data, analysis based on that value can also be useful. For example: Average order value per Product category, Age Group wise sales Analysis, Profit Across gender, etc.\n",
    "        - Combination: Combination of Time Series and Group Aggregation.\n",
    "    - Make sure Metrics are useful to the stakeholder and not gibberish.\n",
<<<<<<< HEAD
    "     Example for Reference:\n",
    "     Head of the dataset:\n",
    "    'Order_Date,Time,Aging,Customer_Id,Gender,Device_Type,Customer_Login_type,Product_Category,Product,Sales,Quantity,Discount,Profit,Shipping_Cost,Order_Priority,Payment_method\\n2018-01-02,10:56:33,8.0,37077,Female,Web,Member,Auto & Accessories,Car Media Players,140.0,1.0,0.3,46.0,4.6,Medium,credit_card\\n2018-07-24,20:41:37,2.0,59173,Female,Web,Member,Auto & Accessories,Car Speakers,211.0,1.0,0.3,112.0,11.2,Medium,credit_card\\n2018-11-08,08:38:49,8.0,41066,Female,Web,Member,Auto & Accessories,Car Body Covers,117.0,5.0,0.1,31.2,3.1,Critical,credit_card\\n2018-04-18,19:28:06,7.0,50741,Female,Web,Member,Auto & Accessories,Car & Bike Care,118.0,1.0,0.3,26.2,2.6,High,credit_card\\n2018-08-13,21:18:39,9.0,53639,Female,Web,Member,Auto & Accessories,Tyre,250.0,1.0,0.3,160.0,16.0,Critical,credit_card\\n'\n",
    "    shape of the dataset: (51290,16)\n",
    "    No. of unique values per column:\n",
    "    'Order_Date 356\\nTime 35275\\nAging 11\\nCustomer_Id38997\\nGender 2\\nDevice_Type2\\nCustomer_Login_type4\\nProduct_Category 4\\nProduct 42\\nSales 39\\nQuantity 5\\nDiscount 5\\nProfit 391\\nShipping_Cost153\\nOrder_Priority 4\\nPayment_method 5'\n",
    "    Info of the dataset:\n",
    "    'Order_Date,51290,non-null,object,Time,51290,non-null,object,Aging,51289,non-null,float64,Customer_Id,51290,non-null,int64,Gender,51290,non-null,object,Device_Type,51290,non-null,object,Customer_Login_type,51290,non-null,object,Product_Category,51290,non-null,object,Product,51290,non-null,object,Sales,51289,non-null,float64,Quantity,51288,non-null,float64,Discount,51289,non-null,float64,Profit,51290,non-null,float64,Shipping_Cost,51289,non-null,float64,Order_Priority,51288,non-null,object,Payment_method,51290,non-null,object'\n",
    "    Result:\n",
    "    {{\n",
    "        \"aggregates\": [\"Average Profit\", \"Average Sales\", \"Average Shipping Cost\"],\n",
    "        \"time_series\": [{{\"metric\": \"Month-on-Month Sales Trend\", \"chart_type\": \"line\", \"groupby\": \"Order_Date\"}},{{\"metric\": \"Yearly Shipping Cost Trend\", \"chart_type\": \"line\", \"groupby\": \"Order_Date\"}}],\n",
    "        \"group_aggregation\": [{{\"metric\": \"Average Order Value per Product Category\", \"chart_type\": \"bar\", \"groupby\": \"Product_Category\"}},{{\"metric\": \"Profit Distribution Across Gender\", \"chart_type\": \"pie\", \"groupby\": \"Gender\"}},{{\"metric\": \"Sales Distribution Across Device Type\", \"chart_type\": \"bar\", \"groupby\": \"Device_Type\"}}],\n",
    "        \"combination\": [{{\"metric\": \"Monthly Sales Trend Across Gender\", \"chart_type\": \"multiline\", \"groupby\": \"Order_Date\"}},{{\"metric\": \"Quarterly Profit Trend Across Product Category\", \"chart_type\": \"multiline\", \"groupby\": \"Product_Category\"}}]\n",
    "    }}\n",
    "     Important Points to Note:\n",
=======
    "\n",
    "    Important Points to Note:\n",
>>>>>>> origin/main
    "    - All datasets might not have all the 3 types of metrics, leave it as a blank list in such cases.\n",
    "    - Maximum possible number of unique values for the column to be considered for group aggregates is 8.\n",
    "    - Chart types given in thought are only for reference; you may give other chart types which could help visualize metrics better based on the number of unique values and the shape of the dataset, like box plot, pie chart, etc.\n",
    "    - Possible chart types include ['line', 'bar', 'area', 'histogram', 'pie', 'stacked_bar', 'multiline' (combination of group aggregate and time series), 'grouped_bar'].\n",
    "    - Different metrics of a Metric type can have different visualizations.\n",
    "    - Give metrics names in a professional and formal manner; remember a business stakeholder has to see it.\n",
    "    - Give at most 4 metrics for each category.\n",
    "    - Avoid redundancy in metrics; choose the most informative and unique metrics.\n",
    "    - Use the same structure as given in the above example; JSON keys should be exactly as mentioned.\n",
    "    - Make sure that the output is JSON serializable; need to directly use json.loads on the output.\n",
    "    Here is what you have:\n",
    "    Head of the dataset:\n",
    "    {df_head}\n",
    "    Column description: {column_description}\n",
    "    Shape of the dataset: {df_shape}\n",
    "    No. of unique values per column:\n",
    "    {df_nunique}\n",
    "    Info of the dataset:\n",
    "    {df_info}\n",
    "    Result:\n",
    "    '''\n",
<<<<<<< HEAD
    "\n",
=======
>>>>>>> origin/main
    "    return prompt.format(df_head=df_head, column_description=column_description, df_shape=df_shape,\n",
    "                         df_nunique=df_nunique, df_info=df_info)\n"
   ]
  },
  {
   "cell_type": "code",
<<<<<<< HEAD
   "execution_count": 27,
=======
   "execution_count": 18,
>>>>>>> origin/main
   "id": "6975c72f-9c5d-4a3e-81eb-fde30a9e3483",
   "metadata": {},
   "outputs": [],
   "source": [
<<<<<<< HEAD
    "hmvi = pd.read_csv(\"../insurance_data.csv\")"
=======
    "hmvi = pd.read_csv(\"../hmvi.csv\")"
>>>>>>> origin/main
   ]
  },
  {
   "cell_type": "code",
<<<<<<< HEAD
   "execution_count": 28,
=======
   "execution_count": 19,
>>>>>>> origin/main
   "id": "66c1cafc-aec9-461e-8a61-bd199b1a3e35",
   "metadata": {},
   "outputs": [
    {
     "data": {
      "text/html": [
       "<div>\n",
       "<style scoped>\n",
       "    .dataframe tbody tr th:only-of-type {\n",
       "        vertical-align: middle;\n",
       "    }\n",
       "\n",
       "    .dataframe tbody tr th {\n",
       "        vertical-align: top;\n",
       "    }\n",
       "\n",
       "    .dataframe thead th {\n",
       "        text-align: right;\n",
       "    }\n",
       "</style>\n",
       "<table border=\"1\" class=\"dataframe\">\n",
       "  <thead>\n",
       "    <tr style=\"text-align: right;\">\n",
       "      <th></th>\n",
<<<<<<< HEAD
       "      <th>LoanNr_ChkDgt</th>\n",
       "      <th>Name</th>\n",
       "      <th>City</th>\n",
       "      <th>State</th>\n",
       "      <th>Zip</th>\n",
       "      <th>Bank</th>\n",
       "      <th>BankState</th>\n",
       "      <th>NAICS</th>\n",
       "      <th>ApprovalDate</th>\n",
       "      <th>ApprovalFY</th>\n",
       "      <th>...</th>\n",
       "      <th>RevLineCr</th>\n",
       "      <th>LowDoc</th>\n",
       "      <th>ChgOffDate</th>\n",
       "      <th>DisbursementDate</th>\n",
       "      <th>DisbursementGross</th>\n",
       "      <th>BalanceGross</th>\n",
       "      <th>MIS_Status</th>\n",
       "      <th>ChgOffPrinGr</th>\n",
       "      <th>GrAppv</th>\n",
       "      <th>SBA_Appv</th>\n",
=======
       "      <th>Item</th>\n",
       "      <th>ID Number</th>\n",
       "      <th>Unique ID</th>\n",
       "      <th>Original Balance</th>\n",
       "      <th>Current Balance</th>\n",
       "      <th>Current Contributed Balance</th>\n",
       "      <th>Gross Coupon</th>\n",
       "      <th>Net Coupon</th>\n",
       "      <th>Orig Maturity Term</th>\n",
       "      <th>Rem Maturity Term</th>\n",
       "      <th>...</th>\n",
       "      <th>FICO Score at Loan Origination</th>\n",
       "      <th>Mortgage Insurance Paid By</th>\n",
       "      <th>Mortgage Insurance Percentage</th>\n",
       "      <th>Occupancy (pass-through)</th>\n",
       "      <th>Original DTI</th>\n",
       "      <th>Original Months Term</th>\n",
       "      <th>Paid-Through Date</th>\n",
       "      <th>Property Type (pass-through)</th>\n",
       "      <th>Loan Purpose (pass-through)</th>\n",
       "      <th>Property Sale Price</th>\n",
>>>>>>> origin/main
       "    </tr>\n",
       "  </thead>\n",
       "  <tbody>\n",
       "    <tr>\n",
       "      <th>0</th>\n",
<<<<<<< HEAD
       "      <td>1000093009</td>\n",
       "      <td>MIDDLE ATLANTIC SPORTS CO INC</td>\n",
       "      <td>UNION</td>\n",
       "      <td>NJ</td>\n",
       "      <td>7083</td>\n",
       "      <td>WELLS FARGO BANK NATL ASSOC</td>\n",
       "      <td>SD</td>\n",
       "      <td>0</td>\n",
       "      <td>2-Jun-80</td>\n",
       "      <td>1980</td>\n",
       "      <td>...</td>\n",
       "      <td>N</td>\n",
       "      <td>N</td>\n",
       "      <td>24-Jun-91</td>\n",
       "      <td>22-Jul-80</td>\n",
       "      <td>$600,000.00</td>\n",
       "      <td>$0.00</td>\n",
       "      <td>CHGOFF</td>\n",
       "      <td>$208,959.00</td>\n",
       "      <td>$600,000.00</td>\n",
       "      <td>$499,998.00</td>\n",
       "    </tr>\n",
       "    <tr>\n",
       "      <th>1</th>\n",
       "      <td>1000554001</td>\n",
       "      <td>PAUL E. &amp; JUDY A. FAATZ</td>\n",
       "      <td>KINSMAN</td>\n",
       "      <td>OH</td>\n",
       "      <td>44428</td>\n",
       "      <td>CORTLAND SAVINGS &amp; BK. CO.</td>\n",
       "      <td>OH</td>\n",
       "      <td>0</td>\n",
       "      <td>28-Feb-97</td>\n",
       "      <td>1997</td>\n",
       "      <td>...</td>\n",
       "      <td>N</td>\n",
       "      <td>Y</td>\n",
       "      <td>18-Apr-02</td>\n",
       "      <td>30-Jun-97</td>\n",
       "      <td>$47,000.00</td>\n",
       "      <td>$0.00</td>\n",
       "      <td>CHGOFF</td>\n",
       "      <td>$14,084.00</td>\n",
       "      <td>$47,000.00</td>\n",
       "      <td>$37,600.00</td>\n",
       "    </tr>\n",
       "    <tr>\n",
       "      <th>2</th>\n",
       "      <td>1000653000</td>\n",
       "      <td>LARRY SCHOETTMER FORD INC</td>\n",
       "      <td>EDINBURGH</td>\n",
       "      <td>IN</td>\n",
       "      <td>46124</td>\n",
       "      <td>JPMORGAN CHASE BANK NATL ASSOC</td>\n",
       "      <td>IN</td>\n",
       "      <td>0</td>\n",
       "      <td>11-Jun-80</td>\n",
       "      <td>1980</td>\n",
       "      <td>...</td>\n",
       "      <td>Y</td>\n",
       "      <td>N</td>\n",
       "      <td>4-Oct-89</td>\n",
       "      <td>31-Jul-80</td>\n",
       "      <td>$197,485.00</td>\n",
       "      <td>$0.00</td>\n",
       "      <td>CHGOFF</td>\n",
       "      <td>$44,374.00</td>\n",
       "      <td>$200,000.00</td>\n",
       "      <td>$150,000.00</td>\n",
       "    </tr>\n",
       "    <tr>\n",
       "      <th>3</th>\n",
       "      <td>1000726007</td>\n",
       "      <td>NEW DIMENSION HOMES INC</td>\n",
       "      <td>CLINTON (CENSUS NAME FOR CLINT</td>\n",
       "      <td>ME</td>\n",
       "      <td>4927</td>\n",
       "      <td>WELLS FARGO BANK NATL ASSOC</td>\n",
       "      <td>SD</td>\n",
       "      <td>236115</td>\n",
       "      <td>7-Feb-06</td>\n",
       "      <td>2006</td>\n",
       "      <td>...</td>\n",
       "      <td>0</td>\n",
       "      <td>N</td>\n",
       "      <td>26-Jun-14</td>\n",
       "      <td>28-Feb-06</td>\n",
       "      <td>$1,350,000.00</td>\n",
       "      <td>$0.00</td>\n",
       "      <td>CHGOFF</td>\n",
       "      <td>$1,043,508.00</td>\n",
       "      <td>$1,350,000.00</td>\n",
       "      <td>$1,012,500.00</td>\n",
       "    </tr>\n",
       "    <tr>\n",
       "      <th>4</th>\n",
       "      <td>1000735003</td>\n",
       "      <td>Mykols Marine Inc.</td>\n",
       "      <td>Spring Lake</td>\n",
       "      <td>MI</td>\n",
       "      <td>49417</td>\n",
       "      <td>WELLS FARGO BANK NATL ASSOC</td>\n",
       "      <td>SD</td>\n",
       "      <td>713930</td>\n",
       "      <td>31-Mar-97</td>\n",
       "      <td>1997</td>\n",
       "      <td>...</td>\n",
       "      <td>0</td>\n",
       "      <td>N</td>\n",
       "      <td>4-Oct-05</td>\n",
       "      <td>28-Feb-98</td>\n",
       "      <td>$25,000.00</td>\n",
       "      <td>$0.00</td>\n",
       "      <td>CHGOFF</td>\n",
       "      <td>$23,484.00</td>\n",
       "      <td>$25,000.00</td>\n",
       "      <td>$12,500.00</td>\n",
       "    </tr>\n",
       "  </tbody>\n",
       "</table>\n",
       "<p>5 rows × 27 columns</p>\n",
       "</div>"
      ],
      "text/plain": [
       "   LoanNr_ChkDgt                           Name  \\\n",
       "0     1000093009  MIDDLE ATLANTIC SPORTS CO INC   \n",
       "1     1000554001        PAUL E. & JUDY A. FAATZ   \n",
       "2     1000653000      LARRY SCHOETTMER FORD INC   \n",
       "3     1000726007        NEW DIMENSION HOMES INC   \n",
       "4     1000735003             Mykols Marine Inc.   \n",
       "\n",
       "                             City State    Zip  \\\n",
       "0                           UNION    NJ   7083   \n",
       "1                         KINSMAN    OH  44428   \n",
       "2                       EDINBURGH    IN  46124   \n",
       "3  CLINTON (CENSUS NAME FOR CLINT    ME   4927   \n",
       "4                     Spring Lake    MI  49417   \n",
       "\n",
       "                             Bank BankState   NAICS ApprovalDate  ApprovalFY  \\\n",
       "0     WELLS FARGO BANK NATL ASSOC        SD       0     2-Jun-80        1980   \n",
       "1      CORTLAND SAVINGS & BK. CO.        OH       0    28-Feb-97        1997   \n",
       "2  JPMORGAN CHASE BANK NATL ASSOC        IN       0    11-Jun-80        1980   \n",
       "3     WELLS FARGO BANK NATL ASSOC        SD  236115     7-Feb-06        2006   \n",
       "4     WELLS FARGO BANK NATL ASSOC        SD  713930    31-Mar-97        1997   \n",
       "\n",
       "   ...  RevLineCr  LowDoc  ChgOffDate  DisbursementDate  DisbursementGross  \\\n",
       "0  ...          N       N   24-Jun-91         22-Jul-80       $600,000.00    \n",
       "1  ...          N       Y   18-Apr-02         30-Jun-97        $47,000.00    \n",
       "2  ...          Y       N    4-Oct-89         31-Jul-80       $197,485.00    \n",
       "3  ...          0       N   26-Jun-14         28-Feb-06     $1,350,000.00    \n",
       "4  ...          0       N    4-Oct-05         28-Feb-98        $25,000.00    \n",
       "\n",
       "   BalanceGross  MIS_Status    ChgOffPrinGr          GrAppv        SBA_Appv  \n",
       "0        $0.00       CHGOFF    $208,959.00     $600,000.00     $499,998.00   \n",
       "1        $0.00       CHGOFF     $14,084.00      $47,000.00      $37,600.00   \n",
       "2        $0.00       CHGOFF     $44,374.00     $200,000.00     $150,000.00   \n",
       "3        $0.00       CHGOFF  $1,043,508.00   $1,350,000.00   $1,012,500.00   \n",
       "4        $0.00       CHGOFF     $23,484.00      $25,000.00      $12,500.00   \n",
       "\n",
       "[5 rows x 27 columns]"
      ]
     },
     "execution_count": 28,
=======
       "      <td>1</td>\n",
       "      <td>1440798</td>\n",
       "      <td>LNRADRE231-1440798</td>\n",
       "      <td>1224000.0</td>\n",
       "      <td>1152000.00</td>\n",
       "      <td>1152000.00</td>\n",
       "      <td>3.550</td>\n",
       "      <td>3.550</td>\n",
       "      <td>361</td>\n",
       "      <td>339.0</td>\n",
       "      <td>...</td>\n",
       "      <td>801.0</td>\n",
       "      <td>BPMI</td>\n",
       "      <td>8.4</td>\n",
       "      <td>Primary</td>\n",
       "      <td>32.0</td>\n",
       "      <td>50</td>\n",
       "      <td>20231031</td>\n",
       "      <td>Single</td>\n",
       "      <td>Other</td>\n",
       "      <td>1440000.0</td>\n",
       "    </tr>\n",
       "    <tr>\n",
       "      <th>1</th>\n",
       "      <td>2</td>\n",
       "      <td>1513524</td>\n",
       "      <td>LNRADRE231-1513524</td>\n",
       "      <td>356046.0</td>\n",
       "      <td>346960.11</td>\n",
       "      <td>346960.11</td>\n",
       "      <td>4.680</td>\n",
       "      <td>4.680</td>\n",
       "      <td>361</td>\n",
       "      <td>343.0</td>\n",
       "      <td>...</td>\n",
       "      <td>745.0</td>\n",
       "      <td>BPMI</td>\n",
       "      <td>15.0</td>\n",
       "      <td>Primary</td>\n",
       "      <td>35.0</td>\n",
       "      <td>38</td>\n",
       "      <td>20231031</td>\n",
       "      <td>PUD</td>\n",
       "      <td>Other</td>\n",
       "      <td>374785.0</td>\n",
       "    </tr>\n",
       "    <tr>\n",
       "      <th>2</th>\n",
       "      <td>3</td>\n",
       "      <td>1533011</td>\n",
       "      <td>LNRADRE231-1533011</td>\n",
       "      <td>1127312.0</td>\n",
       "      <td>1110300.55</td>\n",
       "      <td>1110300.55</td>\n",
       "      <td>6.375</td>\n",
       "      <td>6.375</td>\n",
       "      <td>361</td>\n",
       "      <td>348.0</td>\n",
       "      <td>...</td>\n",
       "      <td>776.0</td>\n",
       "      <td>BPMI</td>\n",
       "      <td>15.0</td>\n",
       "      <td>Primary</td>\n",
       "      <td>44.0</td>\n",
       "      <td>61</td>\n",
       "      <td>20231031</td>\n",
       "      <td>Single</td>\n",
       "      <td>Other</td>\n",
       "      <td>1304240.0</td>\n",
       "    </tr>\n",
       "    <tr>\n",
       "      <th>3</th>\n",
       "      <td>4</td>\n",
       "      <td>1545955</td>\n",
       "      <td>LNRADRE231-1545955</td>\n",
       "      <td>604700.0</td>\n",
       "      <td>589631.13</td>\n",
       "      <td>589631.13</td>\n",
       "      <td>3.350</td>\n",
       "      <td>3.350</td>\n",
       "      <td>361</td>\n",
       "      <td>346.0</td>\n",
       "      <td>...</td>\n",
       "      <td>738.0</td>\n",
       "      <td>BPMI</td>\n",
       "      <td>7.2</td>\n",
       "      <td>Primary</td>\n",
       "      <td>35.0</td>\n",
       "      <td>39</td>\n",
       "      <td>20231031</td>\n",
       "      <td>PUD</td>\n",
       "      <td>Other</td>\n",
       "      <td>671889.0</td>\n",
       "    </tr>\n",
       "    <tr>\n",
       "      <th>4</th>\n",
       "      <td>5</td>\n",
       "      <td>1548095</td>\n",
       "      <td>LNRADRE231-1548095</td>\n",
       "      <td>599182.0</td>\n",
       "      <td>583136.26</td>\n",
       "      <td>583136.26</td>\n",
       "      <td>2.875</td>\n",
       "      <td>2.875</td>\n",
       "      <td>361</td>\n",
       "      <td>347.0</td>\n",
       "      <td>...</td>\n",
       "      <td>766.0</td>\n",
       "      <td>BPMI</td>\n",
       "      <td>15.0</td>\n",
       "      <td>Primary</td>\n",
       "      <td>38.0</td>\n",
       "      <td>68</td>\n",
       "      <td>20231031</td>\n",
       "      <td>PUD</td>\n",
       "      <td>Other</td>\n",
       "      <td>665758.0</td>\n",
       "    </tr>\n",
       "  </tbody>\n",
       "</table>\n",
       "<p>5 rows × 40 columns</p>\n",
       "</div>"
      ],
      "text/plain": [
       "   Item  ID Number           Unique ID  Original Balance  Current Balance  \\\n",
       "0     1    1440798  LNRADRE231-1440798         1224000.0       1152000.00   \n",
       "1     2    1513524  LNRADRE231-1513524          356046.0        346960.11   \n",
       "2     3    1533011  LNRADRE231-1533011         1127312.0       1110300.55   \n",
       "3     4    1545955  LNRADRE231-1545955          604700.0        589631.13   \n",
       "4     5    1548095  LNRADRE231-1548095          599182.0        583136.26   \n",
       "\n",
       "   Current Contributed Balance  Gross Coupon  Net Coupon  Orig Maturity Term  \\\n",
       "0                   1152000.00         3.550       3.550                 361   \n",
       "1                    346960.11         4.680       4.680                 361   \n",
       "2                   1110300.55         6.375       6.375                 361   \n",
       "3                    589631.13         3.350       3.350                 361   \n",
       "4                    583136.26         2.875       2.875                 361   \n",
       "\n",
       "   Rem Maturity Term  ...  FICO Score at Loan Origination  \\\n",
       "0              339.0  ...                           801.0   \n",
       "1              343.0  ...                           745.0   \n",
       "2              348.0  ...                           776.0   \n",
       "3              346.0  ...                           738.0   \n",
       "4              347.0  ...                           766.0   \n",
       "\n",
       "   Mortgage Insurance Paid By Mortgage Insurance Percentage  \\\n",
       "0                        BPMI                           8.4   \n",
       "1                        BPMI                          15.0   \n",
       "2                        BPMI                          15.0   \n",
       "3                        BPMI                           7.2   \n",
       "4                        BPMI                          15.0   \n",
       "\n",
       "   Occupancy (pass-through) Original DTI Original Months Term  \\\n",
       "0                   Primary         32.0                   50   \n",
       "1                   Primary         35.0                   38   \n",
       "2                   Primary         44.0                   61   \n",
       "3                   Primary         35.0                   39   \n",
       "4                   Primary         38.0                   68   \n",
       "\n",
       "   Paid-Through Date  Property Type (pass-through)  \\\n",
       "0           20231031                        Single   \n",
       "1           20231031                           PUD   \n",
       "2           20231031                        Single   \n",
       "3           20231031                           PUD   \n",
       "4           20231031                           PUD   \n",
       "\n",
       "   Loan Purpose (pass-through)  Property Sale Price  \n",
       "0                        Other            1440000.0  \n",
       "1                        Other             374785.0  \n",
       "2                        Other            1304240.0  \n",
       "3                        Other             671889.0  \n",
       "4                        Other             665758.0  \n",
       "\n",
       "[5 rows x 40 columns]"
      ]
     },
     "execution_count": 19,
>>>>>>> origin/main
     "metadata": {},
     "output_type": "execute_result"
    }
   ],
   "source": [
    "hmvi.head()"
   ]
  },
  {
   "cell_type": "code",
<<<<<<< HEAD
   "execution_count": 29,
=======
   "execution_count": 20,
>>>>>>> origin/main
   "id": "80df8f2f-668c-47ad-a544-c8ab36f1c0e0",
   "metadata": {},
   "outputs": [],
   "source": [
    "def model_response(query:str):\n",
    "    chat = ChatOpenAI(model=\"gpt-4o\",\n",
    "                    temperature = 0,\n",
    "                    model_kwargs= {\n",
    "                    \"response_format\": {\"type\": \"json_object\"},\n",
    "                    \"seed\" : 42})\n",
    "\n",
    "    messages = [\n",
    "        SystemMessage(\n",
    "            content=\"You are a business analyst designed to give key insights,designed to output json\"),\n",
    "        HumanMessage(\n",
    "            content=query),\n",
    "    ]\n",
    "    return json.loads(chat(messages).content)"
   ]
  },
  {
   "cell_type": "code",
<<<<<<< HEAD
   "execution_count": 30,
=======
   "execution_count": 21,
>>>>>>> origin/main
   "id": "88e9cad1-9300-4b02-a6ce-0a9111913a61",
   "metadata": {},
   "outputs": [],
   "source": [
    "df_head = hmvi.head().to_csv(index=False)"
   ]
  },
  {
   "cell_type": "code",
<<<<<<< HEAD
   "execution_count": 31,
=======
   "execution_count": 22,
>>>>>>> origin/main
   "id": "60ad79b5-fa27-4ccd-ba1d-fea140784076",
   "metadata": {},
   "outputs": [],
   "source": [
    "df_shape = hmvi.shape"
   ]
  },
  {
   "cell_type": "code",
<<<<<<< HEAD
   "execution_count": 32,
=======
   "execution_count": 23,
>>>>>>> origin/main
   "id": "9e63ee05-c3e1-46ba-9368-61dc7828e90b",
   "metadata": {},
   "outputs": [],
   "source": [
    "df_nunique =hmvi.nunique()"
   ]
  },
  {
   "cell_type": "code",
<<<<<<< HEAD
   "execution_count": 33,
=======
   "execution_count": 24,
>>>>>>> origin/main
   "id": "afa0d412-e971-4c41-b844-7451576106fb",
   "metadata": {},
   "outputs": [
    {
     "name": "stdout",
     "output_type": "stream",
     "text": [
      "<class 'pandas.core.frame.DataFrame'>\n",
<<<<<<< HEAD
      "RangeIndex: 25243 entries, 0 to 25242\n",
      "Data columns (total 27 columns):\n",
      " #   Column             Non-Null Count  Dtype \n",
      "---  ------             --------------  ----- \n",
      " 0   LoanNr_ChkDgt      25243 non-null  int64 \n",
      " 1   Name               25243 non-null  object\n",
      " 2   City               25243 non-null  object\n",
      " 3   State              25243 non-null  object\n",
      " 4   Zip                25243 non-null  int64 \n",
      " 5   Bank               25243 non-null  object\n",
      " 6   BankState          25243 non-null  object\n",
      " 7   NAICS              25243 non-null  int64 \n",
      " 8   ApprovalDate       25243 non-null  object\n",
      " 9   ApprovalFY         25243 non-null  int64 \n",
      " 10  Term               25243 non-null  int64 \n",
      " 11  NoEmp              25243 non-null  int64 \n",
      " 12  NewExist           25243 non-null  int64 \n",
      " 13  CreateJob          25243 non-null  int64 \n",
      " 14  RetainedJob        25243 non-null  int64 \n",
      " 15  FranchiseCode      25243 non-null  int64 \n",
      " 16  UrbanRural         25243 non-null  int64 \n",
      " 17  RevLineCr          25243 non-null  object\n",
      " 18  LowDoc             25243 non-null  object\n",
      " 19  ChgOffDate         25243 non-null  object\n",
      " 20  DisbursementDate   25243 non-null  object\n",
      " 21  DisbursementGross  25243 non-null  object\n",
      " 22  BalanceGross       25243 non-null  object\n",
      " 23  MIS_Status         25243 non-null  object\n",
      " 24  ChgOffPrinGr       25243 non-null  object\n",
      " 25  GrAppv             25243 non-null  object\n",
      " 26  SBA_Appv           25243 non-null  object\n",
      "dtypes: int64(11), object(16)\n",
      "memory usage: 5.2+ MB\n"
=======
      "RangeIndex: 29000 entries, 0 to 28999\n",
      "Data columns (total 40 columns):\n",
      " #   Column                          Non-Null Count  Dtype  \n",
      "---  ------                          --------------  -----  \n",
      " 0   Item                            29000 non-null  int64  \n",
      " 1   ID Number                       29000 non-null  int64  \n",
      " 2   Unique ID                       29000 non-null  object \n",
      " 3   Original Balance                29000 non-null  float64\n",
      " 4   Current Balance                 29000 non-null  float64\n",
      " 5   Current Contributed Balance     29000 non-null  float64\n",
      " 6   Gross Coupon                    29000 non-null  float64\n",
      " 7   Net Coupon                      29000 non-null  float64\n",
      " 8   Orig Maturity Term              29000 non-null  int64  \n",
      " 9   Rem Maturity Term               28525 non-null  float64\n",
      " 10  Orig Amort Term                 29000 non-null  int64  \n",
      " 11  Rem Amort Term                  28525 non-null  float64\n",
      " 12  Maturity Date                   28525 non-null  object \n",
      " 13  Age                             28525 non-null  float64\n",
      " 14  Issue Date                      29000 non-null  object \n",
      " 15  State                           29000 non-null  object \n",
      " 16  Orig LTV                        29000 non-null  float64\n",
      " 17  LTV                             28525 non-null  float64\n",
      " 18  Factor                          29000 non-null  float64\n",
      " 19  Factor (Cur Bal Wtd)            29000 non-null  float64\n",
      " 20  Property Code                   29000 non-null  object \n",
      " 21  Occupancy                       29000 non-null  object \n",
      " 22  Purpose                         29000 non-null  object \n",
      " 23  Documentation                   29000 non-null  object \n",
      " 24  Original Appraisal Value        29000 non-null  float64\n",
      " 25  Term                            29000 non-null  int64  \n",
      " 26  Balance at Deal Issuance        29000 non-null  float64\n",
      " 27  Conforming Balance Flag         28624 non-null  object \n",
      " 28  Documentation (pass-through)    29000 non-null  object \n",
      " 29  FICO Score                      28998 non-null  float64\n",
      " 30  FICO Score at Loan Origination  28998 non-null  float64\n",
      " 31  Mortgage Insurance Paid By      29000 non-null  object \n",
      " 32  Mortgage Insurance Percentage   29000 non-null  float64\n",
      " 33  Occupancy (pass-through)        29000 non-null  object \n",
      " 34  Original DTI                    29000 non-null  float64\n",
      " 35  Original Months Term            29000 non-null  int64  \n",
      " 36  Paid-Through Date               29000 non-null  int64  \n",
      " 37  Property Type (pass-through)    29000 non-null  object \n",
      " 38  Loan Purpose (pass-through)     29000 non-null  object \n",
      " 39  Property Sale Price             29000 non-null  float64\n",
      "dtypes: float64(19), int64(7), object(14)\n",
      "memory usage: 8.9+ MB\n"
>>>>>>> origin/main
     ]
    }
   ],
   "source": [
    "df_info=hmvi.info()\n"
   ]
  },
  {
   "cell_type": "code",
<<<<<<< HEAD
   "execution_count": 34,
=======
   "execution_count": 25,
>>>>>>> origin/main
   "id": "a1688ac8-ae25-4d8f-b328-5ba50f0181f9",
   "metadata": {},
   "outputs": [
    {
     "data": {
      "text/plain": [
<<<<<<< HEAD
       "'LoanNr_ChkDgt    25243\\nName         24342\\nCity         6369\\nState          51\\nZip          9443\\nBank         1004\\nBankState        52\\nNAICS         909\\nApprovalDate     1548\\nApprovalFY       18\\nTerm          304\\nNoEmp         121\\nNewExist         3\\nCreateJob        49\\nRetainedJob       90\\nFranchiseCode     315\\nUrbanRural        3\\nRevLineCr        4\\nLowDoc          3\\nChgOffDate      3709\\nDisbursementDate   1062\\nDisbursementGross   9840\\nBalanceGross       1\\nMIS_Status        2\\nChgOffPrinGr     19200\\nGrAppv        1454\\nSBA_Appv       1930\\ndtype: int64'"
      ]
     },
     "execution_count": 34,
=======
       "'Item               29000\\nID Number             29000\\nUnique ID             29000\\nOriginal Balance          9726\\nCurrent Balance          27215\\nCurrent Contributed Balance    27215\\nGross Coupon            1216\\nNet Coupon             1216\\nOrig Maturity Term          15\\nRem Maturity Term          44\\nOrig Amort Term           15\\nRem Amort Term            44\\nMaturity Date            44\\nAge                 17\\nIssue Date              17\\nState                51\\nOrig LTV               20\\nLTV                1761\\nFactor               7975\\nFactor (Cur Bal Wtd)        7975\\nProperty Code             6\\nOccupancy               3\\nPurpose                4\\nDocumentation             2\\nOriginal Appraisal Value      1661\\nTerm                121\\nBalance at Deal Issuance     27424\\nConforming Balance Flag        2\\nDocumentation (pass-through)     2\\nFICO Score             228\\nFICO Score at Loan Origination   228\\nMortgage Insurance Paid By      2\\nMortgage Insurance Percentage    19\\nOccupancy (pass-through)       3\\nOriginal DTI             48\\nOriginal Months Term        122\\nPaid-Through Date           5\\nProperty Type (pass-through)     6\\nLoan Purpose (pass-through)      4\\nProperty Sale Price        6531\\ndtype: int64'"
      ]
     },
     "execution_count": 25,
>>>>>>> origin/main
     "metadata": {},
     "output_type": "execute_result"
    }
   ],
   "source": [
    "df_nunique = str(df_nunique).replace(\"  \",\" \")\n",
    "df_nunique"
   ]
  },
  {
   "cell_type": "markdown",
   "id": "16502fce-15ae-43f3-8f17-275fb99413b0",
   "metadata": {},
   "source": [
    "## prompt output"
   ]
  },
  {
   "cell_type": "code",
<<<<<<< HEAD
   "execution_count": 35,
=======
   "execution_count": null,
>>>>>>> origin/main
   "id": "3f49b9ab-4dd5-4984-87cc-9f4469b09c65",
   "metadata": {},
   "outputs": [],
   "source": [
    "dfmetr = model_response(metrics_for_table_prompt(df_head=df_head,df_info=df_info,df_nunique=df_nunique,df_shape = df_shape))\n"
   ]
  },
  {
   "cell_type": "code",
<<<<<<< HEAD
   "execution_count": 36,
=======
   "execution_count": null,
>>>>>>> origin/main
   "id": "124652c9-2dec-42d8-afe8-3ed124f13dea",
   "metadata": {
    "scrolled": true
   },
<<<<<<< HEAD
   "outputs": [
    {
     "data": {
      "text/plain": [
       "{'aggregates': ['Average Disbursement Gross',\n",
       "  'Total Number of Loans',\n",
       "  'Average Term of Loans',\n",
       "  'Total Number of Jobs Created'],\n",
       " 'time_series': [{'metric': 'Yearly Loan Approval Trend',\n",
       "   'chart_type': 'line',\n",
       "   'groupby': 'ApprovalFY'},\n",
       "  {'metric': 'Yearly Disbursement Gross Trend',\n",
       "   'chart_type': 'line',\n",
       "   'groupby': 'ApprovalFY'}],\n",
       " 'group_aggregation': [{'metric': 'Average Disbursement Gross per State',\n",
       "   'chart_type': 'bar',\n",
       "   'groupby': 'State'},\n",
       "  {'metric': 'Loan Distribution Across Bank States',\n",
       "   'chart_type': 'pie',\n",
       "   'groupby': 'BankState'},\n",
       "  {'metric': 'Average Number of Employees per NAICS Category',\n",
       "   'chart_type': 'bar',\n",
       "   'groupby': 'NAICS'},\n",
       "  {'metric': 'Loan Status Distribution',\n",
       "   'chart_type': 'pie',\n",
       "   'groupby': 'MIS_Status'}],\n",
       " 'combination': [{'metric': 'Yearly Loan Approval Trend Across States',\n",
       "   'chart_type': 'multiline',\n",
       "   'groupby': 'State'},\n",
       "  {'metric': 'Quarterly Disbursement Gross Trend Across NAICS Categories',\n",
       "   'chart_type': 'multiline',\n",
       "   'groupby': 'NAICS'}]}"
      ]
     },
     "execution_count": 36,
     "metadata": {},
     "output_type": "execute_result"
    }
   ],
=======
   "outputs": [],
>>>>>>> origin/main
   "source": [
    "dfmetr"
   ]
  },
  {
   "cell_type": "markdown",
<<<<<<< HEAD
=======
   "id": "d2187f6b-6a91-4df4-8fe6-883995db57c9",
   "metadata": {},
   "source": [
    "## Points\n",
    "-Compare with gpt\n",
    "-average and annual\n"
   ]
  },
  {
   "cell_type": "markdown",
>>>>>>> origin/main
   "id": "7faf2260-74a3-46d6-903a-5cec6845cb8d",
   "metadata": {},
   "source": [
    "## deliverables"
   ]
  },
  {
   "cell_type": "markdown",
   "id": "7773361c-786f-4276-8430-ad7a4225be2c",
   "metadata": {},
   "source": [
    "- optimize the prompt\n",
    "- check if the metrics generated are correct or not\n",
    "- check the chart type\n",
    "- see how it can be connected wit custom metrics"
   ]
  }
 ],
 "metadata": {
  "kernelspec": {
   "display_name": "Python 3 (ipykernel)",
   "language": "python",
   "name": "python3"
  },
  "language_info": {
   "codemirror_mode": {
    "name": "ipython",
    "version": 3
   },
   "file_extension": ".py",
   "mimetype": "text/x-python",
   "name": "python",
   "nbconvert_exporter": "python",
   "pygments_lexer": "ipython3",
   "version": "3.11.7"
  },
  "widgets": {
   "application/vnd.jupyter.widget-state+json": {
    "state": {},
    "version_major": 2,
    "version_minor": 0
   }
  }
 },
 "nbformat": 4,
 "nbformat_minor": 5
}
