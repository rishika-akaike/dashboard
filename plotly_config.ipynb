{
 "cells": [
  {
   "cell_type": "markdown",
   "id": "080ff8b3-31df-4e6a-a3e2-5eeb818e9561",
   "metadata": {},
   "source": [
    "## Import of Libraries"
   ]
  },
  {
   "cell_type": "code",
   "execution_count": 1,
   "id": "2e453c13-ba7c-4324-aa37-6aae93089c3e",
   "metadata": {},
   "outputs": [],
   "source": [
    "import plotly.graph_objects as go\n",
    "import pandas as pd\n",
    "import json\n",
    "from io import StringIO"
   ]
  },
  {
   "cell_type": "code",
   "execution_count": 3,
   "id": "40bf9e30-18c2-4a37-a477-8f0a661d715d",
   "metadata": {},
   "outputs": [],
   "source": [
    "from langchain.schema import HumanMessage, SystemMessage\n",
    "from langchain_community.chat_models import  ChatOpenAI\n",
    "from loguru import logger\n",
    "import os\n",
    "os.environ['OPENAI_API_KEY'] ='sk-proj-aa0TVLLkCiFG7nEv3OK1T3BlbkFJNStJ3P31uShKLhyao40P'\n"
   ]
  },
  {
   "cell_type": "markdown",
   "id": "e2bb8c13-40bf-4247-a169-78e199031f0e",
   "metadata": {},
   "source": [
    "## Plotly class"
   ]
  },
  {
   "cell_type": "code",
   "execution_count": 4,
   "id": "5d54a3d9-a9be-4bab-a077-bb62990b6733",
   "metadata": {},
   "outputs": [],
   "source": [
    "def model_response(query:str):\n",
    "    chat = ChatOpenAI(model=\"gpt-3.5-turbo\",\n",
    "                    openai_api_key = os.environ.get('openai_key'),\n",
    "                    temperature = 0,\n",
    "                    model_kwargs= {\n",
    "                    \"response_format\": {\"type\": \"json_object\"},\n",
    "                    \"seed\" : 42})\n",
    "\n",
    "    messages = [\n",
    "        SystemMessage(\n",
    "            content=\"You are a business analyst designed to give key insights,designed to output json\"),\n",
    "        HumanMessage(\n",
    "            content=query),\n",
    "    ]\n",
    "    return json.loads(chat(messages).content)"
   ]
  },
  {
   "cell_type": "code",
   "execution_count": 27,
   "id": "ece991a0-1e5b-4faf-99b8-213b298d8a30",
   "metadata": {},
   "outputs": [],
   "source": [
    "class PlotlyGraph:\n",
    "    def __init__(self):\n",
    "        self.chart_methods = {\n",
    "            'bar': self.bar,\n",
    "            'grouped_bar': self.grouped_bar,\n",
    "            'line': self.line,\n",
    "            'scatter': self.scatter,\n",
    "            'heatmap': self.heatmap,\n",
    "            'area line': self.area_line,\n",
    "            'surface_area': self.area_line,\n",
    "            'multiline': self.multiline,\n",
    "            'multi_line': self.multiline,\n",
    "            'scattercarpet': self.scattercarpet,\n",
    "            'stacked_bar': self.stacked_bar,\n",
    "            'pie': self.pie,\n",
    "            'area': self.area\n",
    "        }\n",
    "\n",
    "    def generate_plotly_graph(self, data_dict, additional_params=None):\n",
    "        # Extract information from the dictionary\n",
    "        x_axis = data_dict['x_axis']\n",
    "        y_axis = data_dict['y_axis']\n",
    "        chart_type = data_dict['chart_type']\n",
    "        df_str = data_dict['resultant_df']\n",
    "        group_by = data_dict.get(\"group_by\", None)\n",
    "      \n",
    "        if isinstance(df_str, str):\n",
    "            df = pd.read_csv(StringIO(df_str))\n",
    "        else:\n",
    "            df = df_str\n",
    "\n",
    "        fig = go.Figure()\n",
    "\n",
    "        chart_method = self.chart_methods.get(chart_type)\n",
    "        if chart_method:\n",
    "            return chart_method(df, x_axis, y_axis, group_by, additional_params)\n",
    "        else:\n",
    "            raise ValueError(f\"Unsupported chart type: {chart_type}\")\n",
    "    \n",
    "    def bar(self, df, x_axis, y_axis, group_by, additional_params=None):\n",
    "        fig = go.Figure()\n",
    "        if group_by:\n",
    "            for name, group in df.groupby(group_by):\n",
    "                fig.add_trace(go.Bar(x=group[x_axis], y=group[y_axis], name=y_axis))\n",
    "        else:\n",
    "            fig.add_trace(go.Bar(x=df[x_axis], y=df[y_axis]))\n",
    "        fig.update_layout(margin={'pad': 20}, xaxis_title=x_axis, yaxis_title=y_axis)\n",
    "        fig.show()\n",
    "        return json.loads(fig.to_json())\n",
    "\n",
    "    \n",
    "    def grouped_bar(self, df, x_axis, y_axis, group_by, additional_params=None):\n",
    "        fig = go.Figure()\n",
    "        df = df.sort_values(by=y_axis, ascending=False)\n",
    "        for col in df.columns:\n",
    "            if col != x_axis:\n",
    "                fig.add_trace(go.Bar(x=df[x_axis], y=df[col], name=col))\n",
    "        barmode = additional_params.get('barmode') if additional_params else 'stack'\n",
    "        try:\n",
    "            for login_type in df[group_by].unique():\n",
    "                fig.add_trace(go.Bar(x=df[df[group_by] == login_type][x_axis],\n",
    "                            y=df[df[group_by] == login_type][y_axis],\n",
    "                            name=login_type))\n",
    "        except Exception:\n",
    "            fig.add_trace(go.Bar(x=df[x_axis], y=df['count'], name='count'))\n",
    "        \n",
    "        fig.update_layout(barmode='group',\n",
    "                      xaxis_title=x_axis,\n",
    "                      yaxis_title=y_axis,\n",
    "                      legend_title=group_by)\n",
    "        fig.update_layout(margin={'pad': 20}, xaxis_title=x_axis, yaxis_title=y_axis)\n",
    "        fig.show()\n",
    "        return json.loads(fig.to_json())\n",
    "\n",
    "  \n",
    "    def line(self, df, x_axis, y_axis, group_by, additional_params=None):\n",
    "        fig = go.Figure()\n",
    "        if group_by:\n",
    "            for name, group in df.groupby(group_by):\n",
    "                fig.add_trace(go.Scatter(x=group[x_axis], y=group[y_axis], mode='lines', name=name))\n",
    "        else:\n",
    "            # Create a standard line chart\n",
    "            fig.add_trace(go.Scatter(x=df[x_axis], y=df[y_axis], mode='lines'))\n",
    "        fig.update_layout(margin={'pad': 20}, xaxis_title=x_axis, yaxis_title=y_axis)\n",
    "        fig.show()\n",
    "        return json.loads(fig.to_json())\n",
    "\n",
    "    def scatter(self, df, x_axis, y_axis, group_by, additional_params=None):\n",
    "        fig = go.Figure()\n",
    "        if group_by:\n",
    "            for name, group in df.groupby(group_by):\n",
    "                fig.add_trace(go.Scatter(x=group[x_axis], y=group[y_axis], mode='markers', name=name))\n",
    "        else:\n",
    "            # Create a standard scatter plot\n",
    "            fig.add_trace(go.Scatter(x=df[x_axis], y=df[y_axis], mode='markers'))\n",
    "        fig.update_layout(margin={'pad': 20}, xaxis_title=x_axis, yaxis_title=y_axis)\n",
    "        fig.show()\n",
    "        return json.loads(fig.to_json())\n",
    "\n",
    "    def heatmap(self, df, x_axis, y_axis, group_by, additional_params=None):\n",
    "        fig = go.Figure()\n",
    "        fig.add_trace(go.Heatmap(z=df[y_axis], x=df[x_axis], y=df.index))\n",
    "        fig.update_layout(margin={'pad': 20}, xaxis_title=x_axis, yaxis_title=y_axis)\n",
    "        fig.show()\n",
    "        return json.loads(fig.to_json())\n",
    "\n",
    "    def area_line(self, df, x_axis, y_axis, group_by, additional_params=None):\n",
    "        fig = go.Figure()\n",
    "        if group_by:\n",
    "            for name, group in df.groupby(group_by):\n",
    "                fig.add_trace(go.Scatter(x=group[x_axis], y=group[y_axis], fill='tozeroy', name=name))\n",
    "        else:\n",
    "            fig.add_trace(go.Scatter(x=df[x_axis], y=df[y_axis], fill='tozeroy'))\n",
    "        fig.update_layout(margin={'pad': 20}, xaxis_title=x_axis, yaxis_title=y_axis)\n",
    "        fig.show()\n",
    "        return json.loads(fig.to_json())\n",
    "\n",
    "    def multiline(self, df, x_axis, y_axis, group_by, additional_params=None):\n",
    "        fig = go.Figure()\n",
    "        if group_by:\n",
    "            for name, group in df.groupby(group_by):\n",
    "                fig.add_trace(go.Scatter(x=group[x_axis], y=group[y_axis], mode='lines', name=name))\n",
    "        else:\n",
    "            fig.add_trace(go.Scatter(x=df[x_axis], y=df[y_axis], mode='lines'))\n",
    "        fig.update_layout(margin={'pad': 20}, xaxis_title=x_axis, yaxis_title=y_axis)\n",
    "        fig.show()\n",
    "        return json.loads(fig.to_json())\n",
    "\n",
    "    def scattercarpet(self, df, x_axis, y_axis, group_by, additional_params=None):\n",
    "        fig = go.Figure()\n",
    "        if group_by:\n",
    "            for name, group in df.groupby(group_by):\n",
    "                fig.add_trace(go.Scattercarpet(a=group[x_axis], b=group[y_axis], name=name))\n",
    "        else:\n",
    "            fig.add_trace(go.Scattercarpet(a=df[x_axis], b=df[y_axis]))\n",
    "        fig.update_layout(margin={'pad': 20}, xaxis_title=x_axis, yaxis_title=y_axis)\n",
    "        fig.show()\n",
    "        return json.loads(fig.to_json())\n",
    "\n",
    "    def stacked_bar(self, df, x_axis, y_axis, group_by, additional_params=None):\n",
    "        fig = go.Figure()\n",
    "        for col in df.columns:\n",
    "            if col != x_axis:\n",
    "                fig.add_trace(go.Bar(x=df[x_axis], y=df[col], name=col, text=df[col], textposition='auto'))\n",
    "        barmode = additional_params.get('barmode') if additional_params else 'stack'\n",
    "        if barmode:\n",
    "            fig.update_layout(barmode=barmode)\n",
    "        fig.update_layout(margin={'pad': 20}, xaxis_title=x_axis, yaxis_title=y_axis)\n",
    "        fig.show()\n",
    "        return json.loads(fig.to_json())\n",
    "\n",
    "    def pie(self, df, x_axis, y_axis, group_by, additional_params=None):\n",
    "        fig = go.Figure()\n",
    "        df = df.sort_values(by=y_axis, ascending=False)\n",
    "        labels, values = list(df[x_axis]), list(df[y_axis])\n",
    "        if len(labels) > 6:\n",
    "            top_labels = labels[:6]\n",
    "            top_values = values[:6]\n",
    "            others_label = 'Others'\n",
    "            others_value = sum(values[6:])\n",
    "            top_labels.append(others_label)\n",
    "            top_values.append(others_value)\n",
    "            fig.add_trace(go.Pie(labels=top_labels, values=top_values))\n",
    "        else:\n",
    "            fig.add_trace(go.Pie(labels=labels, values=values))\n",
    "        fig.update_layout(margin={'pad': 20}, xaxis_title=x_axis, yaxis_title=y_axis)\n",
    "        fig.show()\n",
    "        return json.loads(fig.to_json())\n",
    "\n",
    "    def area(self, df, x_axis, y_axis, group_by, additional_params=None):\n",
    "        fig = go.Figure()\n",
    "        if group_by:\n",
    "            for name, group in df.groupby(group_by):\n",
    "                fig.add_trace(go.Scatter(x=group[x_axis], y=group[y_axis], fill='tonexty', name=name))\n",
    "        else:\n",
    "            fig.add_trace(go.Scatter(x=df[x_axis], y=df[y_axis], fill='tonexty'))\n",
    "        fig.update_layout(margin={'pad': 20}, xaxis_title=x_axis, yaxis_title=y_axis)\n",
    "        fig.show()\n",
    "        return json.loads(fig.to_json())\n"
   ]
  },
  {
   "cell_type": "code",
   "execution_count": 6,
   "id": "6b3e5edb-42f5-4259-847a-33b2328f07a9",
   "metadata": {},
   "outputs": [],
   "source": [
    "def give_chart_type(question:str,dfs_head) -> str:\n",
    "        prompt = '''\n",
    "        Given the following set heads of the datasetand the query:\n",
    "        There are three types of query classifications for visualization:\n",
    "        \n",
    "        time_series: Analyzing time series trends. Graph type: Line.\n",
    "        Example: \"Give me sales trend.\"\n",
    "        group_aggregates: Analyzing over different product categories. Graph types: Bar, Pie,stacked_bar\n",
    "        Example: \"Give me sales for each product category.\"\n",
    "        combination: A combination of time_series and group_aggregates.Where query is requoring Analysis of time series trends for each group category. Graph type: multiline.\n",
    "        Example: 1.Give me product wise sales trend ,\n",
    "                 2. sales trend for each vehicle_type\n",
    "\n",
    "        Result Format:{{\n",
    "        \"is_chart_possible\": \"Yes/No (if the query is related to the head of the dataset, then Yes; else, No)\",\n",
    "        \"tables\": [\"list of tables required for the visualization\"],\n",
    "        \"join\": {{\"left_on\": \"column for left on in case of pd.merge\",\"right_on\": \"column for right on in case of pd.merge\"}},\"type\": \"time_series/group_aggregates/combination\",\n",
    "        \"chart_type\": type of chart suitable for this visualization(like line/multiline/bar/pie etc.)\"}}\n",
    "        only return the result dict, I must be directly able to convert it to json\n",
    "\n",
    "        **Important Instruction**\n",
    "        - is_chart_possible should be no if and only if the visualization for the query is can't be categorized in time_series,group aggregates,combination\n",
    "        \n",
    "        ```\n",
    "        Examples:\n",
    "        For the given Head of the datasets\n",
    "        {{'sales_data': ['date', 'product_id', 'sales_amount'],'product_categories': ['product_id','category']}}\n",
    "\n",
    "        Query: \"Give me sales trend.\" \n",
    "        Result: {{\"is_chart_possible\": \"Yes\",\"tables\": [\"sales_data\"],\"join\": {{\"left_on\":\"\",\"right_on\":\"\"}},\"type\": \"time_series\",\"chart_type\": \"line\"}}\n",
    "\n",
    "        Query: \"Give me sales for each product category.\"\n",
    "        Result: {{\"is_chart_possible\": \"Yes\",\"tables\": [\"sales_data\", \"product_categories\"],\"join\": {{\"left_on\": \"product_id\", \"right_on\": \"product_id\"}},\"type\": \"group_aggregates\",\"chart_type\": \"bar\"}}\n",
    "\n",
    "        Query: \"Give me sales trend for each product category.\"\n",
    "        Result: {{\"is_chart_possible\": \"Yes\",\"tables\": [\"sales_data\", \"product_categories\"],\"join\": {{\"left_on\": \"product_id\", \"right_on\": \"product_id\"}},\"type\": \"combination\",\"chart_type\": \"multiline\"}}\n",
    "\n",
    "        Query: \"Give me profit per product.\"\n",
    "        Result: {{\"is_chart_possible\": \"No\",\"tables\": [],\"join\": {{\"left_on\":\"\",\"right_on\":\"\"}},\"type\": \"\",\"chart_type\": \"\"}}\n",
    "\n",
    "        ```\n",
    "        Head of the datasets: {dfs_head}\n",
    "        query: {question}\n",
    "        Result:\n",
    "        '''\n",
    "        final_prompt = prompt\n",
    "        return final_prompt.format(dfs_head=dfs_head,question=question)"
   ]
  },
  {
   "cell_type": "code",
   "execution_count": 7,
   "id": "3049f85a-fcc7-47bb-b621-651583a4fca6",
   "metadata": {},
   "outputs": [],
   "source": [
    "def generate_chart_config(chart_class, question: str, df_head,column_description:str = \"\"):\n",
    "    prompt = '''\n",
    "        For a given query:  on the given  dataset and type of the visualization: , we are required to plot the given visualization , return chart config in the format below:\n",
    "\n",
    "        chart_config: {{\"x_axis\":column of the dataset(it should be a column present in the dataset) to be on x_axis for the given visualization,\"y_axis\":column of the dataset to be on the y_axis,binning:only fill in case of time series or combinations its either yearly or monthly,heading:The heading for the visualization,group_by:column of the dataset on which grouping is to be done(Leave Blank For Time series, make sure it is a column present in the dataset),operation:infer this from the question, it is either mean,max,sum,chart_type:the chart type to be used for visualization(eg. bar/line/multiline)}}\n",
    "        **Important**\n",
    "        - Make Sure x and y axis values are present in the columns of the dataset\n",
    "        - binning parameter is mandatory for time series and combination types\n",
    "        ```\n",
    "        Examples:\n",
    "        Head of the dataset\n",
    "        date, product_id, sales_amount, category\n",
    "        21/08/2022, 123, 12233, grocery\n",
    "        \n",
    "        Query: \"Give me sales trend for each product category.\"\n",
    "        Chart Class: {{\"chart_type\": \"multiline\", \"type\": \"combination\"}}\n",
    "        Result: {{\"x_axis\": \"date\", \"y_axis\": \"sales_amount\", \"binning\": \"monthly\", \"heading\": \"Sales Trend for Each Product Category\", \"group_by\": \"category\", \"operation\": \"sum\", \"chart_type\": \"multiline\", \"start_date\": None, \"end_date\": None}}\n",
    "        \n",
    "        Query: \"Give me sales for each product category.\"\n",
    "        Chart Class: {{\"chart_type\": \"bar\", \"type\": \"group_aggregates\"}}\n",
    "        Result: {{\"x_axis\": \"category\", \"y_axis\": \"sales_amount\", \"binning\": \"\", \"heading\": \"Sales for Each Product Category\", \"group_by\": \"\", \"operation\": \"sum\", \"chart_type\": \"bar\", \"start_date\": None, \"end_date\":None}}\n",
    "        \n",
    "        Query: \"Give me sales for each product category. from 2018 -2020\"\n",
    "        Chart Class: {{\"chart_type\": \"multiline\", \"type\": \"combination\"}}\n",
    "        Result:{{\"x_axis\": \"date\", \"y_axis\": \"sales_amount\", \"binning\": \"monthly\", \"heading\": \"Sales Trend for Each Product Category\", \"group_by\": \"category\", \"operation\": \"sum\", \"chart_type\": \"multiline\", \"start_date\": \"2018-01-01\", \"end_date\": \"2020-12-31\"}}\n",
    "        ```\n",
    "        column descriptions : {column_description} (if empty use youre understanding of data)\n",
    "        Head of the dataset: {df_head}\n",
    "        Query:{question}\n",
    "        chart_class:{chart_class}\n",
    "        Result:\n",
    "        '''\n",
    "    return prompt.format(df_head=df_head, question=question, chart_class=chart_class,column_description=column_description)"
   ]
  },
  {
   "cell_type": "code",
   "execution_count": 8,
   "id": "4c9ce78b-9871-43f6-a861-71dfd72a80f0",
   "metadata": {},
   "outputs": [],
   "source": [
    "class PandasResultantDataframe:\n",
    "    '''\n",
    "    class to execute required pandas code\n",
    "    '''\n",
    "\n",
    "    def __init__(self, chart_config, df,filter_columns):\n",
    "        self.chart_config = chart_config\n",
    "        self.df2 = df\n",
    "        self.freq_dict = {'business_day': 'B', 'calendar_day': 'D', 'weekly': 'W', 'monthly': 'M', 'quarterly': 'Q',\n",
    "                          'yearly': 'A', 'hourly': 'H', 'minutely': 'T', 'secondly': 'S', 'milliseconds': 'L',\n",
    "                          'microseconds': 'U', 'nanoseconds': 'N'}\n",
    "        self.filter_columns = filter_columns\n",
    "    def _apply_filters(self,df):\n",
    "      \n",
    "        # Apply filters for numerical columns\n",
    "        for col, conditions in self.filter_columns.get('numerical_columns', {}).items():\n",
    "            start_value = conditions.get('start_value')\n",
    "            end_value = conditions.get('end_value')\n",
    "            if start_value is not None:\n",
    "                df = df[df[col] >= start_value]\n",
    "            if end_value is not None:\n",
    "                df = df[df[col] <= end_value]\n",
    "        \n",
    "        # Apply filters for date columns\n",
    "        for col, conditions in self.filter_columns.get('date_columns', {}).items():\n",
    "            start_date = conditions.get('start_date')\n",
    "            end_date = conditions.get('end_date')\n",
    "            if start_date and end_date:\n",
    "                df[col] = pd.to_datetime(df[col])\n",
    "                df = df[(df[col] >= pd.to_datetime(start_date)) & (df[col] <= pd.to_datetime(end_date))]\n",
    "            elif start_date:\n",
    "                df = df[df[col] >= pd.to_datetime(start_date)]\n",
    "            elif end_date:\n",
    "                df = df[df[col] <= pd.to_datetime(end_date)]\n",
    "        \n",
    "        # Apply filters for categorical columns\n",
    "        for col, values in self.filter_columns.get('categorical_columns', {}).items():\n",
    "            if values:\n",
    "                df = df[df[col].isin(values)]\n",
    "        \n",
    "        return df\n",
    "\n",
    "    def time_series_resultant_df(self):\n",
    "        x_axis = self.chart_config['x_axis']\n",
    "        y_axis = self.chart_config['y_axis'] \n",
    "        operation = self.chart_config.get('operation', \"mean\")\n",
    "        df1 = self._apply_filters(self.df2.copy())\n",
    "        if \"binning\" in self.chart_config.keys():\n",
    "            binning = self.chart_config['binning']  ## yearly, monthly, daily\n",
    "            if binning !='':\n",
    "                binning = 'monthly'\n",
    "        elif df1.shape[0]> 720:\n",
    "            binning = 'yearly'\n",
    "        elif df1.shape[0] >60:\n",
    "            binning = 'monthly'\n",
    "        else:\n",
    "            binning = 'daily'\n",
    "    \n",
    "        if df1[x_axis].dtype != \"int64\":\n",
    "            df1[x_axis] = pd.to_datetime(df1[x_axis])\n",
    "            df1[binning] = df1[x_axis].dt.to_period(self.freq_dict[binning]).dt.to_timestamp()\n",
    "            resultant_df = df1.groupby(binning)[y_axis].agg(operation)\n",
    "        else:\n",
    "            resultant_df = df1.groupby(x_axis)[y_axis].agg(operation)\n",
    "        resultant_df = resultant_df.reset_index()\n",
    "        resultant_df.columns = [x_axis, y_axis]\n",
    "        return resultant_df\n",
    "\n",
    "    def group_aggregates_resultant_df(self):\n",
    "        x_axis = self.chart_config['x_axis']\n",
    "        y_axis = self.chart_config['y_axis']\n",
    "        operation = self.chart_config.get('operation', \"mean\")\n",
    "        df1 = self._apply_filters(self.df2.copy())\n",
    "        resultant_df = df1.groupby(x_axis)[y_axis].agg(operation).reset_index()\n",
    "\n",
    "        return resultant_df\n",
    "\n",
    "    def combination_resultant_df(self):\n",
    "        chart_config = self.chart_config\n",
    "        df1 = self._apply_filters(self.df2.copy())\n",
    "        x_axis = chart_config['x_axis']\n",
    "        y_axis = chart_config['y_axis']\n",
    "        group_by = chart_config['group_by']\n",
    "        if \"binning\" in self.chart_config.keys():\n",
    "            binning = self.chart_config['binning']  ## yearly, monthly, daily\n",
    "            if binning !='':\n",
    "                binning = 'monthly'\n",
    "        elif df1.shape[0]> 720:\n",
    "            binning = 'yearly'\n",
    "        elif df1.shape[0] >60:\n",
    "            binning = 'monthly'\n",
    "        else:\n",
    "            binning = 'daily'\n",
    "        \n",
    "        operation = self.chart_config.get('operation', \"mean\")\n",
    "\n",
    "        df1[x_axis] = pd.to_datetime(df1[x_axis])\n",
    "        # df1[binning] = df1[x_axis].dt.to_period(self.freq_dict[binning])\n",
    "        df1[binning] = df1[x_axis].dt.strftime('%Y-%m')\n",
    "        resultant_df = df1.groupby([binning, group_by])[y_axis].agg(operation).unstack().reset_index()\n",
    "        resultant_df = resultant_df.melt(id_vars=[binning], var_name=group_by, value_name=y_axis)\n",
    "        resultant_df.columns = [x_axis, group_by, y_axis]\n",
    "\n",
    "        return resultant_df\n"
   ]
  },
  {
   "cell_type": "code",
   "execution_count": 67,
   "id": "d660dbe1-e42c-4696-9ff9-bde2bb4a8f71",
   "metadata": {},
   "outputs": [],
   "source": [
    "global_stock = pd.read_csv(\"BankCustomer_dataset.csv\")\n",
    "query = \"Trend Analysis customers for each tenure?\"\n",
    "global_stock_head = global_stock.head().to_csv(index = False)"
   ]
  },
  {
   "cell_type": "code",
   "execution_count": 68,
   "id": "9d0dac02-2a5c-42fb-8349-2ca7bc1ccfe4",
   "metadata": {},
   "outputs": [],
   "source": [
    "chart_class = model_response(give_chart_type(query,global_stock_head))"
   ]
  },
  {
   "cell_type": "code",
   "execution_count": 69,
   "id": "00cbf091-778a-469f-a80a-06cce4700b9f",
   "metadata": {},
   "outputs": [
    {
     "data": {
      "text/plain": [
       "{'is_chart_possible': 'No',\n",
       " 'tables': [],\n",
       " 'join': {'left_on': '', 'right_on': ''},\n",
       " 'type': '',\n",
       " 'chart_type': ''}"
      ]
     },
     "execution_count": 69,
     "metadata": {},
     "output_type": "execute_result"
    }
   ],
   "source": [
    "chart_class"
   ]
  },
  {
   "cell_type": "code",
   "execution_count": 60,
   "id": "f90c256f-502a-4b78-a431-4d65c2a8d1b3",
   "metadata": {},
   "outputs": [
    {
     "data": {
      "text/plain": [
       "{'chart_config': {'x_axis': 'country',\n",
       "  'y_axis': 'credit_score',\n",
       "  'binning': 'monthly',\n",
       "  'heading': 'Trend Analysis of Credit Scores by Country',\n",
       "  'group_by': '',\n",
       "  'operation': 'mean',\n",
       "  'chart_type': 'line'}}"
      ]
     },
     "execution_count": 60,
     "metadata": {},
     "output_type": "execute_result"
    }
   ],
   "source": [
    "chart_config = model_response(generate_chart_config(chart_class,query,global_stock_head))\n",
    "chart_config"
   ]
  },
  {
   "cell_type": "code",
   "execution_count": 65,
   "id": "8878e808-5250-46fb-812e-a5c3cacca4a6",
   "metadata": {},
   "outputs": [],
   "source": [
    "chart_config = {'x_axis': 'country',\n",
    "  'y_axis': 'credit_score',\n",
    "  'binning': 'monthly',\n",
    "  'heading': 'Trend Analysis of Credit Scores by Country',\n",
    "  'group_by': '',\n",
    "  'operation': 'mean',\n",
    "  'chart_type': 'line'}"
   ]
  },
  {
   "cell_type": "code",
   "execution_count": 39,
   "id": "432a4b2c-8127-4cd9-8efd-6a8e2f3cb8de",
   "metadata": {},
   "outputs": [],
   "source": [
    "# chart_config ={'x_axis': 'Country', 'y_axis': 'AQI Value', 'binning': '', 'heading': 'Varying AQI Values and Categories Across Different Countries', 'group_by': 'AQI Value', 'operation': 'sum', 'chart_type': 'bar', 'start_date': None, 'end_date': None, 'name_metric': 'What are the varying AQI values and categories across different countries'} \n"
   ]
  },
  {
   "cell_type": "code",
   "execution_count": 66,
   "id": "46767f6c-beb3-493d-8980-dc3ddb056461",
   "metadata": {},
   "outputs": [
    {
     "name": "stderr",
     "output_type": "stream",
     "text": [
      "C:\\Users\\HP\\AppData\\Local\\Temp\\ipykernel_22256\\1326498780.py:60: UserWarning:\n",
      "\n",
      "Could not infer format, so each element will be parsed individually, falling back to `dateutil`. To ensure parsing is consistent and as-expected, please specify a format.\n",
      "\n"
     ]
    },
    {
     "ename": "DateParseError",
     "evalue": "Unknown datetime string format, unable to parse: France, at position 0",
     "output_type": "error",
     "traceback": [
      "\u001b[1;31m---------------------------------------------------------------------------\u001b[0m",
      "\u001b[1;31mDateParseError\u001b[0m                            Traceback (most recent call last)",
      "Cell \u001b[1;32mIn[66], line 2\u001b[0m\n\u001b[0;32m      1\u001b[0m pandas_resultant_df \u001b[38;5;241m=\u001b[39m PandasResultantDataframe(chart_config,global_stock,filter_columns\u001b[38;5;241m=\u001b[39m{})\n\u001b[1;32m----> 2\u001b[0m resultant_df \u001b[38;5;241m=\u001b[39m pandas_resultant_df\u001b[38;5;241m.\u001b[39mtime_series_resultant_df()\n\u001b[0;32m      3\u001b[0m chart_config[\u001b[38;5;124m'\u001b[39m\u001b[38;5;124mresultant_df\u001b[39m\u001b[38;5;124m'\u001b[39m] \u001b[38;5;241m=\u001b[39m resultant_df\n",
      "Cell \u001b[1;32mIn[8], line 60\u001b[0m, in \u001b[0;36mPandasResultantDataframe.time_series_resultant_df\u001b[1;34m(self)\u001b[0m\n\u001b[0;32m     57\u001b[0m     binning \u001b[38;5;241m=\u001b[39m \u001b[38;5;124m'\u001b[39m\u001b[38;5;124mdaily\u001b[39m\u001b[38;5;124m'\u001b[39m\n\u001b[0;32m     59\u001b[0m \u001b[38;5;28;01mif\u001b[39;00m df1[x_axis]\u001b[38;5;241m.\u001b[39mdtype \u001b[38;5;241m!=\u001b[39m \u001b[38;5;124m\"\u001b[39m\u001b[38;5;124mint64\u001b[39m\u001b[38;5;124m\"\u001b[39m:\n\u001b[1;32m---> 60\u001b[0m     df1[x_axis] \u001b[38;5;241m=\u001b[39m pd\u001b[38;5;241m.\u001b[39mto_datetime(df1[x_axis])\n\u001b[0;32m     61\u001b[0m     df1[binning] \u001b[38;5;241m=\u001b[39m df1[x_axis]\u001b[38;5;241m.\u001b[39mdt\u001b[38;5;241m.\u001b[39mto_period(\u001b[38;5;28mself\u001b[39m\u001b[38;5;241m.\u001b[39mfreq_dict[binning])\u001b[38;5;241m.\u001b[39mdt\u001b[38;5;241m.\u001b[39mto_timestamp()\n\u001b[0;32m     62\u001b[0m     resultant_df \u001b[38;5;241m=\u001b[39m df1\u001b[38;5;241m.\u001b[39mgroupby(binning)[y_axis]\u001b[38;5;241m.\u001b[39magg(operation)\n",
      "File \u001b[1;32m~\\anaconda3\\Lib\\site-packages\\pandas\\core\\tools\\datetimes.py:1108\u001b[0m, in \u001b[0;36mto_datetime\u001b[1;34m(arg, errors, dayfirst, yearfirst, utc, format, exact, unit, infer_datetime_format, origin, cache)\u001b[0m\n\u001b[0;32m   1106\u001b[0m             result \u001b[38;5;241m=\u001b[39m arg\u001b[38;5;241m.\u001b[39mtz_localize(\u001b[38;5;124m\"\u001b[39m\u001b[38;5;124mutc\u001b[39m\u001b[38;5;124m\"\u001b[39m)\n\u001b[0;32m   1107\u001b[0m \u001b[38;5;28;01melif\u001b[39;00m \u001b[38;5;28misinstance\u001b[39m(arg, ABCSeries):\n\u001b[1;32m-> 1108\u001b[0m     cache_array \u001b[38;5;241m=\u001b[39m _maybe_cache(arg, \u001b[38;5;28mformat\u001b[39m, cache, convert_listlike)\n\u001b[0;32m   1109\u001b[0m     \u001b[38;5;28;01mif\u001b[39;00m \u001b[38;5;129;01mnot\u001b[39;00m cache_array\u001b[38;5;241m.\u001b[39mempty:\n\u001b[0;32m   1110\u001b[0m         result \u001b[38;5;241m=\u001b[39m arg\u001b[38;5;241m.\u001b[39mmap(cache_array)\n",
      "File \u001b[1;32m~\\anaconda3\\Lib\\site-packages\\pandas\\core\\tools\\datetimes.py:254\u001b[0m, in \u001b[0;36m_maybe_cache\u001b[1;34m(arg, format, cache, convert_listlike)\u001b[0m\n\u001b[0;32m    252\u001b[0m unique_dates \u001b[38;5;241m=\u001b[39m unique(arg)\n\u001b[0;32m    253\u001b[0m \u001b[38;5;28;01mif\u001b[39;00m \u001b[38;5;28mlen\u001b[39m(unique_dates) \u001b[38;5;241m<\u001b[39m \u001b[38;5;28mlen\u001b[39m(arg):\n\u001b[1;32m--> 254\u001b[0m     cache_dates \u001b[38;5;241m=\u001b[39m convert_listlike(unique_dates, \u001b[38;5;28mformat\u001b[39m)\n\u001b[0;32m    255\u001b[0m     \u001b[38;5;66;03m# GH#45319\u001b[39;00m\n\u001b[0;32m    256\u001b[0m     \u001b[38;5;28;01mtry\u001b[39;00m:\n",
      "File \u001b[1;32m~\\anaconda3\\Lib\\site-packages\\pandas\\core\\tools\\datetimes.py:490\u001b[0m, in \u001b[0;36m_convert_listlike_datetimes\u001b[1;34m(arg, format, name, utc, unit, errors, dayfirst, yearfirst, exact)\u001b[0m\n\u001b[0;32m    487\u001b[0m \u001b[38;5;28;01mif\u001b[39;00m \u001b[38;5;28mformat\u001b[39m \u001b[38;5;129;01mis\u001b[39;00m \u001b[38;5;129;01mnot\u001b[39;00m \u001b[38;5;28;01mNone\u001b[39;00m \u001b[38;5;129;01mand\u001b[39;00m \u001b[38;5;28mformat\u001b[39m \u001b[38;5;241m!=\u001b[39m \u001b[38;5;124m\"\u001b[39m\u001b[38;5;124mmixed\u001b[39m\u001b[38;5;124m\"\u001b[39m:\n\u001b[0;32m    488\u001b[0m     \u001b[38;5;28;01mreturn\u001b[39;00m _array_strptime_with_fallback(arg, name, utc, \u001b[38;5;28mformat\u001b[39m, exact, errors)\n\u001b[1;32m--> 490\u001b[0m result, tz_parsed \u001b[38;5;241m=\u001b[39m objects_to_datetime64ns(\n\u001b[0;32m    491\u001b[0m     arg,\n\u001b[0;32m    492\u001b[0m     dayfirst\u001b[38;5;241m=\u001b[39mdayfirst,\n\u001b[0;32m    493\u001b[0m     yearfirst\u001b[38;5;241m=\u001b[39myearfirst,\n\u001b[0;32m    494\u001b[0m     utc\u001b[38;5;241m=\u001b[39mutc,\n\u001b[0;32m    495\u001b[0m     errors\u001b[38;5;241m=\u001b[39merrors,\n\u001b[0;32m    496\u001b[0m     allow_object\u001b[38;5;241m=\u001b[39m\u001b[38;5;28;01mTrue\u001b[39;00m,\n\u001b[0;32m    497\u001b[0m )\n\u001b[0;32m    499\u001b[0m \u001b[38;5;28;01mif\u001b[39;00m tz_parsed \u001b[38;5;129;01mis\u001b[39;00m \u001b[38;5;129;01mnot\u001b[39;00m \u001b[38;5;28;01mNone\u001b[39;00m:\n\u001b[0;32m    500\u001b[0m     \u001b[38;5;66;03m# We can take a shortcut since the datetime64 numpy array\u001b[39;00m\n\u001b[0;32m    501\u001b[0m     \u001b[38;5;66;03m# is in UTC\u001b[39;00m\n\u001b[0;32m    502\u001b[0m     dta \u001b[38;5;241m=\u001b[39m DatetimeArray(result, dtype\u001b[38;5;241m=\u001b[39mtz_to_dtype(tz_parsed))\n",
      "File \u001b[1;32m~\\anaconda3\\Lib\\site-packages\\pandas\\core\\arrays\\datetimes.py:2346\u001b[0m, in \u001b[0;36mobjects_to_datetime64ns\u001b[1;34m(data, dayfirst, yearfirst, utc, errors, allow_object)\u001b[0m\n\u001b[0;32m   2343\u001b[0m \u001b[38;5;66;03m# if str-dtype, convert\u001b[39;00m\n\u001b[0;32m   2344\u001b[0m data \u001b[38;5;241m=\u001b[39m np\u001b[38;5;241m.\u001b[39marray(data, copy\u001b[38;5;241m=\u001b[39m\u001b[38;5;28;01mFalse\u001b[39;00m, dtype\u001b[38;5;241m=\u001b[39mnp\u001b[38;5;241m.\u001b[39mobject_)\n\u001b[1;32m-> 2346\u001b[0m result, tz_parsed \u001b[38;5;241m=\u001b[39m tslib\u001b[38;5;241m.\u001b[39marray_to_datetime(\n\u001b[0;32m   2347\u001b[0m     data,\n\u001b[0;32m   2348\u001b[0m     errors\u001b[38;5;241m=\u001b[39merrors,\n\u001b[0;32m   2349\u001b[0m     utc\u001b[38;5;241m=\u001b[39mutc,\n\u001b[0;32m   2350\u001b[0m     dayfirst\u001b[38;5;241m=\u001b[39mdayfirst,\n\u001b[0;32m   2351\u001b[0m     yearfirst\u001b[38;5;241m=\u001b[39myearfirst,\n\u001b[0;32m   2352\u001b[0m )\n\u001b[0;32m   2354\u001b[0m \u001b[38;5;28;01mif\u001b[39;00m tz_parsed \u001b[38;5;129;01mis\u001b[39;00m \u001b[38;5;129;01mnot\u001b[39;00m \u001b[38;5;28;01mNone\u001b[39;00m:\n\u001b[0;32m   2355\u001b[0m     \u001b[38;5;66;03m# We can take a shortcut since the datetime64 numpy array\u001b[39;00m\n\u001b[0;32m   2356\u001b[0m     \u001b[38;5;66;03m#  is in UTC\u001b[39;00m\n\u001b[0;32m   2357\u001b[0m     \u001b[38;5;66;03m# Return i8 values to denote unix timestamps\u001b[39;00m\n\u001b[0;32m   2358\u001b[0m     \u001b[38;5;28;01mreturn\u001b[39;00m result\u001b[38;5;241m.\u001b[39mview(\u001b[38;5;124m\"\u001b[39m\u001b[38;5;124mi8\u001b[39m\u001b[38;5;124m\"\u001b[39m), tz_parsed\n",
      "File \u001b[1;32mtslib.pyx:403\u001b[0m, in \u001b[0;36mpandas._libs.tslib.array_to_datetime\u001b[1;34m()\u001b[0m\n",
      "File \u001b[1;32mtslib.pyx:552\u001b[0m, in \u001b[0;36mpandas._libs.tslib.array_to_datetime\u001b[1;34m()\u001b[0m\n",
      "File \u001b[1;32mtslib.pyx:517\u001b[0m, in \u001b[0;36mpandas._libs.tslib.array_to_datetime\u001b[1;34m()\u001b[0m\n",
      "File \u001b[1;32mconversion.pyx:546\u001b[0m, in \u001b[0;36mpandas._libs.tslibs.conversion.convert_str_to_tsobject\u001b[1;34m()\u001b[0m\n",
      "File \u001b[1;32mparsing.pyx:331\u001b[0m, in \u001b[0;36mpandas._libs.tslibs.parsing.parse_datetime_string\u001b[1;34m()\u001b[0m\n",
      "File \u001b[1;32mparsing.pyx:660\u001b[0m, in \u001b[0;36mpandas._libs.tslibs.parsing.dateutil_parse\u001b[1;34m()\u001b[0m\n",
      "\u001b[1;31mDateParseError\u001b[0m: Unknown datetime string format, unable to parse: France, at position 0"
     ]
    }
   ],
   "source": [
    "pandas_resultant_df = PandasResultantDataframe(chart_config,global_stock,filter_columns={})\n",
    "resultant_df = pandas_resultant_df.group_aggregates_resultant_df()\n",
    "chart_config['resultant_df'] = resultant_df\n"
   ]
  },
  {
   "cell_type": "code",
   "execution_count": 62,
   "id": "4220923a-9ee2-4b73-ac19-77a82e42d125",
   "metadata": {},
   "outputs": [
    {
     "data": {
      "text/html": [
       "<div>\n",
       "<style scoped>\n",
       "    .dataframe tbody tr th:only-of-type {\n",
       "        vertical-align: middle;\n",
       "    }\n",
       "\n",
       "    .dataframe tbody tr th {\n",
       "        vertical-align: top;\n",
       "    }\n",
       "\n",
       "    .dataframe thead th {\n",
       "        text-align: right;\n",
       "    }\n",
       "</style>\n",
       "<table border=\"1\" class=\"dataframe\">\n",
       "  <thead>\n",
       "    <tr style=\"text-align: right;\">\n",
       "      <th></th>\n",
       "      <th>tenure</th>\n",
       "      <th>customer_id</th>\n",
       "    </tr>\n",
       "  </thead>\n",
       "  <tbody>\n",
       "    <tr>\n",
       "      <th>0</th>\n",
       "      <td>0</td>\n",
       "      <td>413</td>\n",
       "    </tr>\n",
       "    <tr>\n",
       "      <th>1</th>\n",
       "      <td>1</td>\n",
       "      <td>1035</td>\n",
       "    </tr>\n",
       "    <tr>\n",
       "      <th>2</th>\n",
       "      <td>2</td>\n",
       "      <td>1048</td>\n",
       "    </tr>\n",
       "    <tr>\n",
       "      <th>3</th>\n",
       "      <td>3</td>\n",
       "      <td>1009</td>\n",
       "    </tr>\n",
       "    <tr>\n",
       "      <th>4</th>\n",
       "      <td>4</td>\n",
       "      <td>989</td>\n",
       "    </tr>\n",
       "    <tr>\n",
       "      <th>5</th>\n",
       "      <td>5</td>\n",
       "      <td>1012</td>\n",
       "    </tr>\n",
       "    <tr>\n",
       "      <th>6</th>\n",
       "      <td>6</td>\n",
       "      <td>967</td>\n",
       "    </tr>\n",
       "    <tr>\n",
       "      <th>7</th>\n",
       "      <td>7</td>\n",
       "      <td>1028</td>\n",
       "    </tr>\n",
       "    <tr>\n",
       "      <th>8</th>\n",
       "      <td>8</td>\n",
       "      <td>1025</td>\n",
       "    </tr>\n",
       "    <tr>\n",
       "      <th>9</th>\n",
       "      <td>9</td>\n",
       "      <td>984</td>\n",
       "    </tr>\n",
       "    <tr>\n",
       "      <th>10</th>\n",
       "      <td>10</td>\n",
       "      <td>490</td>\n",
       "    </tr>\n",
       "  </tbody>\n",
       "</table>\n",
       "</div>"
      ],
      "text/plain": [
       "    tenure  customer_id\n",
       "0        0          413\n",
       "1        1         1035\n",
       "2        2         1048\n",
       "3        3         1009\n",
       "4        4          989\n",
       "5        5         1012\n",
       "6        6          967\n",
       "7        7         1028\n",
       "8        8         1025\n",
       "9        9          984\n",
       "10      10          490"
      ]
     },
     "execution_count": 62,
     "metadata": {},
     "output_type": "execute_result"
    }
   ],
   "source": [
    "# resultant_df"
   ]
  },
  {
   "cell_type": "code",
   "execution_count": 41,
   "id": "4dab5311-e76e-4547-a826-83318ef934f5",
   "metadata": {},
   "outputs": [
    {
     "data": {
      "text/html": [
       "<div>\n",
       "<style scoped>\n",
       "    .dataframe tbody tr th:only-of-type {\n",
       "        vertical-align: middle;\n",
       "    }\n",
       "\n",
       "    .dataframe tbody tr th {\n",
       "        vertical-align: top;\n",
       "    }\n",
       "\n",
       "    .dataframe thead th {\n",
       "        text-align: right;\n",
       "    }\n",
       "</style>\n",
       "<table border=\"1\" class=\"dataframe\">\n",
       "  <thead>\n",
       "    <tr style=\"text-align: right;\">\n",
       "      <th></th>\n",
       "      <th>Country</th>\n",
       "      <th>AQI Value</th>\n",
       "    </tr>\n",
       "  </thead>\n",
       "  <tbody>\n",
       "    <tr>\n",
       "      <th>0</th>\n",
       "      <td>Afghanistan</td>\n",
       "      <td>4702</td>\n",
       "    </tr>\n",
       "    <tr>\n",
       "      <th>1</th>\n",
       "      <td>Albania</td>\n",
       "      <td>2184</td>\n",
       "    </tr>\n",
       "    <tr>\n",
       "      <th>2</th>\n",
       "      <td>Algeria</td>\n",
       "      <td>1058</td>\n",
       "    </tr>\n",
       "    <tr>\n",
       "      <th>3</th>\n",
       "      <td>Algérie ⵍⵣⵣⴰⵢⴻⵔ الجزائر</td>\n",
       "      <td>50</td>\n",
       "    </tr>\n",
       "    <tr>\n",
       "      <th>4</th>\n",
       "      <td>Andorra</td>\n",
       "      <td>88</td>\n",
       "    </tr>\n",
       "  </tbody>\n",
       "</table>\n",
       "</div>"
      ],
      "text/plain": [
       "                   Country  AQI Value\n",
       "0              Afghanistan       4702\n",
       "1                  Albania       2184\n",
       "2                  Algeria       1058\n",
       "3  Algérie ⵍⵣⵣⴰⵢⴻⵔ الجزائر         50\n",
       "4                  Andorra         88"
      ]
     },
     "execution_count": 41,
     "metadata": {},
     "output_type": "execute_result"
    }
   ],
   "source": [
    "# resultant_df_str = 'Country,AQI Value\\r\\nAfghanistan,4702\\r\\nAlbania,2184\\r\\nAlgeria,1058\\r\\nAlgérie ⵍⵣⵣⴰⵢⴻⵔ الجزائر,50\\r\\nAndorra,88\\r\\n'\n",
    "# resultant_df =pd.read_csv(StringIO(resultant_df_str))\n",
    "# resultant_df\n"
   ]
  },
  {
   "cell_type": "code",
   "execution_count": 42,
   "id": "6c97ffb2-b8cb-4ea7-92fc-6faaaf47bb55",
   "metadata": {},
   "outputs": [],
   "source": [
    "# chart_config['resultant_df'] = resultant_df"
   ]
  },
  {
   "cell_type": "code",
   "execution_count": 52,
   "id": "b0892fe5-b83a-4a6c-a74e-9a8c6ac66076",
   "metadata": {},
   "outputs": [],
   "source": [
    "plotly_graph  = PlotlyGraph()"
   ]
  },
  {
   "cell_type": "code",
   "execution_count": 53,
   "id": "23f6526e-0f83-4819-8db6-2e8bbf2b24ed",
   "metadata": {},
   "outputs": [
    {
     "data": {
      "application/vnd.plotly.v1+json": {
       "config": {
        "plotlyServerURL": "https://plot.ly"
       },
       "data": [
        {
         "type": "bar",
         "x": [
          0,
          1,
          2,
          3,
          4,
          5,
          6,
          7,
          8,
          9,
          10
         ],
         "y": [
          413,
          1035,
          1048,
          1009,
          989,
          1012,
          967,
          1028,
          1025,
          984,
          490
         ]
        }
       ],
       "layout": {
        "autosize": true,
        "margin": {
         "pad": 20
        },
        "template": {
         "data": {
          "bar": [
           {
            "error_x": {
             "color": "#2a3f5f"
            },
            "error_y": {
             "color": "#2a3f5f"
            },
            "marker": {
             "line": {
              "color": "#E5ECF6",
              "width": 0.5
             },
             "pattern": {
              "fillmode": "overlay",
              "size": 10,
              "solidity": 0.2
             }
            },
            "type": "bar"
           }
          ],
          "barpolar": [
           {
            "marker": {
             "line": {
              "color": "#E5ECF6",
              "width": 0.5
             },
             "pattern": {
              "fillmode": "overlay",
              "size": 10,
              "solidity": 0.2
             }
            },
            "type": "barpolar"
           }
          ],
          "carpet": [
           {
            "aaxis": {
             "endlinecolor": "#2a3f5f",
             "gridcolor": "white",
             "linecolor": "white",
             "minorgridcolor": "white",
             "startlinecolor": "#2a3f5f"
            },
            "baxis": {
             "endlinecolor": "#2a3f5f",
             "gridcolor": "white",
             "linecolor": "white",
             "minorgridcolor": "white",
             "startlinecolor": "#2a3f5f"
            },
            "type": "carpet"
           }
          ],
          "choropleth": [
           {
            "colorbar": {
             "outlinewidth": 0,
             "ticks": ""
            },
            "type": "choropleth"
           }
          ],
          "contour": [
           {
            "colorbar": {
             "outlinewidth": 0,
             "ticks": ""
            },
            "colorscale": [
             [
              0,
              "#0d0887"
             ],
             [
              0.1111111111111111,
              "#46039f"
             ],
             [
              0.2222222222222222,
              "#7201a8"
             ],
             [
              0.3333333333333333,
              "#9c179e"
             ],
             [
              0.4444444444444444,
              "#bd3786"
             ],
             [
              0.5555555555555556,
              "#d8576b"
             ],
             [
              0.6666666666666666,
              "#ed7953"
             ],
             [
              0.7777777777777778,
              "#fb9f3a"
             ],
             [
              0.8888888888888888,
              "#fdca26"
             ],
             [
              1,
              "#f0f921"
             ]
            ],
            "type": "contour"
           }
          ],
          "contourcarpet": [
           {
            "colorbar": {
             "outlinewidth": 0,
             "ticks": ""
            },
            "type": "contourcarpet"
           }
          ],
          "heatmap": [
           {
            "colorbar": {
             "outlinewidth": 0,
             "ticks": ""
            },
            "colorscale": [
             [
              0,
              "#0d0887"
             ],
             [
              0.1111111111111111,
              "#46039f"
             ],
             [
              0.2222222222222222,
              "#7201a8"
             ],
             [
              0.3333333333333333,
              "#9c179e"
             ],
             [
              0.4444444444444444,
              "#bd3786"
             ],
             [
              0.5555555555555556,
              "#d8576b"
             ],
             [
              0.6666666666666666,
              "#ed7953"
             ],
             [
              0.7777777777777778,
              "#fb9f3a"
             ],
             [
              0.8888888888888888,
              "#fdca26"
             ],
             [
              1,
              "#f0f921"
             ]
            ],
            "type": "heatmap"
           }
          ],
          "heatmapgl": [
           {
            "colorbar": {
             "outlinewidth": 0,
             "ticks": ""
            },
            "colorscale": [
             [
              0,
              "#0d0887"
             ],
             [
              0.1111111111111111,
              "#46039f"
             ],
             [
              0.2222222222222222,
              "#7201a8"
             ],
             [
              0.3333333333333333,
              "#9c179e"
             ],
             [
              0.4444444444444444,
              "#bd3786"
             ],
             [
              0.5555555555555556,
              "#d8576b"
             ],
             [
              0.6666666666666666,
              "#ed7953"
             ],
             [
              0.7777777777777778,
              "#fb9f3a"
             ],
             [
              0.8888888888888888,
              "#fdca26"
             ],
             [
              1,
              "#f0f921"
             ]
            ],
            "type": "heatmapgl"
           }
          ],
          "histogram": [
           {
            "marker": {
             "pattern": {
              "fillmode": "overlay",
              "size": 10,
              "solidity": 0.2
             }
            },
            "type": "histogram"
           }
          ],
          "histogram2d": [
           {
            "colorbar": {
             "outlinewidth": 0,
             "ticks": ""
            },
            "colorscale": [
             [
              0,
              "#0d0887"
             ],
             [
              0.1111111111111111,
              "#46039f"
             ],
             [
              0.2222222222222222,
              "#7201a8"
             ],
             [
              0.3333333333333333,
              "#9c179e"
             ],
             [
              0.4444444444444444,
              "#bd3786"
             ],
             [
              0.5555555555555556,
              "#d8576b"
             ],
             [
              0.6666666666666666,
              "#ed7953"
             ],
             [
              0.7777777777777778,
              "#fb9f3a"
             ],
             [
              0.8888888888888888,
              "#fdca26"
             ],
             [
              1,
              "#f0f921"
             ]
            ],
            "type": "histogram2d"
           }
          ],
          "histogram2dcontour": [
           {
            "colorbar": {
             "outlinewidth": 0,
             "ticks": ""
            },
            "colorscale": [
             [
              0,
              "#0d0887"
             ],
             [
              0.1111111111111111,
              "#46039f"
             ],
             [
              0.2222222222222222,
              "#7201a8"
             ],
             [
              0.3333333333333333,
              "#9c179e"
             ],
             [
              0.4444444444444444,
              "#bd3786"
             ],
             [
              0.5555555555555556,
              "#d8576b"
             ],
             [
              0.6666666666666666,
              "#ed7953"
             ],
             [
              0.7777777777777778,
              "#fb9f3a"
             ],
             [
              0.8888888888888888,
              "#fdca26"
             ],
             [
              1,
              "#f0f921"
             ]
            ],
            "type": "histogram2dcontour"
           }
          ],
          "mesh3d": [
           {
            "colorbar": {
             "outlinewidth": 0,
             "ticks": ""
            },
            "type": "mesh3d"
           }
          ],
          "parcoords": [
           {
            "line": {
             "colorbar": {
              "outlinewidth": 0,
              "ticks": ""
             }
            },
            "type": "parcoords"
           }
          ],
          "pie": [
           {
            "automargin": true,
            "type": "pie"
           }
          ],
          "scatter": [
           {
            "fillpattern": {
             "fillmode": "overlay",
             "size": 10,
             "solidity": 0.2
            },
            "type": "scatter"
           }
          ],
          "scatter3d": [
           {
            "line": {
             "colorbar": {
              "outlinewidth": 0,
              "ticks": ""
             }
            },
            "marker": {
             "colorbar": {
              "outlinewidth": 0,
              "ticks": ""
             }
            },
            "type": "scatter3d"
           }
          ],
          "scattercarpet": [
           {
            "marker": {
             "colorbar": {
              "outlinewidth": 0,
              "ticks": ""
             }
            },
            "type": "scattercarpet"
           }
          ],
          "scattergeo": [
           {
            "marker": {
             "colorbar": {
              "outlinewidth": 0,
              "ticks": ""
             }
            },
            "type": "scattergeo"
           }
          ],
          "scattergl": [
           {
            "marker": {
             "colorbar": {
              "outlinewidth": 0,
              "ticks": ""
             }
            },
            "type": "scattergl"
           }
          ],
          "scattermapbox": [
           {
            "marker": {
             "colorbar": {
              "outlinewidth": 0,
              "ticks": ""
             }
            },
            "type": "scattermapbox"
           }
          ],
          "scatterpolar": [
           {
            "marker": {
             "colorbar": {
              "outlinewidth": 0,
              "ticks": ""
             }
            },
            "type": "scatterpolar"
           }
          ],
          "scatterpolargl": [
           {
            "marker": {
             "colorbar": {
              "outlinewidth": 0,
              "ticks": ""
             }
            },
            "type": "scatterpolargl"
           }
          ],
          "scatterternary": [
           {
            "marker": {
             "colorbar": {
              "outlinewidth": 0,
              "ticks": ""
             }
            },
            "type": "scatterternary"
           }
          ],
          "surface": [
           {
            "colorbar": {
             "outlinewidth": 0,
             "ticks": ""
            },
            "colorscale": [
             [
              0,
              "#0d0887"
             ],
             [
              0.1111111111111111,
              "#46039f"
             ],
             [
              0.2222222222222222,
              "#7201a8"
             ],
             [
              0.3333333333333333,
              "#9c179e"
             ],
             [
              0.4444444444444444,
              "#bd3786"
             ],
             [
              0.5555555555555556,
              "#d8576b"
             ],
             [
              0.6666666666666666,
              "#ed7953"
             ],
             [
              0.7777777777777778,
              "#fb9f3a"
             ],
             [
              0.8888888888888888,
              "#fdca26"
             ],
             [
              1,
              "#f0f921"
             ]
            ],
            "type": "surface"
           }
          ],
          "table": [
           {
            "cells": {
             "fill": {
              "color": "#EBF0F8"
             },
             "line": {
              "color": "white"
             }
            },
            "header": {
             "fill": {
              "color": "#C8D4E3"
             },
             "line": {
              "color": "white"
             }
            },
            "type": "table"
           }
          ]
         },
         "layout": {
          "annotationdefaults": {
           "arrowcolor": "#2a3f5f",
           "arrowhead": 0,
           "arrowwidth": 1
          },
          "autotypenumbers": "strict",
          "coloraxis": {
           "colorbar": {
            "outlinewidth": 0,
            "ticks": ""
           }
          },
          "colorscale": {
           "diverging": [
            [
             0,
             "#8e0152"
            ],
            [
             0.1,
             "#c51b7d"
            ],
            [
             0.2,
             "#de77ae"
            ],
            [
             0.3,
             "#f1b6da"
            ],
            [
             0.4,
             "#fde0ef"
            ],
            [
             0.5,
             "#f7f7f7"
            ],
            [
             0.6,
             "#e6f5d0"
            ],
            [
             0.7,
             "#b8e186"
            ],
            [
             0.8,
             "#7fbc41"
            ],
            [
             0.9,
             "#4d9221"
            ],
            [
             1,
             "#276419"
            ]
           ],
           "sequential": [
            [
             0,
             "#0d0887"
            ],
            [
             0.1111111111111111,
             "#46039f"
            ],
            [
             0.2222222222222222,
             "#7201a8"
            ],
            [
             0.3333333333333333,
             "#9c179e"
            ],
            [
             0.4444444444444444,
             "#bd3786"
            ],
            [
             0.5555555555555556,
             "#d8576b"
            ],
            [
             0.6666666666666666,
             "#ed7953"
            ],
            [
             0.7777777777777778,
             "#fb9f3a"
            ],
            [
             0.8888888888888888,
             "#fdca26"
            ],
            [
             1,
             "#f0f921"
            ]
           ],
           "sequentialminus": [
            [
             0,
             "#0d0887"
            ],
            [
             0.1111111111111111,
             "#46039f"
            ],
            [
             0.2222222222222222,
             "#7201a8"
            ],
            [
             0.3333333333333333,
             "#9c179e"
            ],
            [
             0.4444444444444444,
             "#bd3786"
            ],
            [
             0.5555555555555556,
             "#d8576b"
            ],
            [
             0.6666666666666666,
             "#ed7953"
            ],
            [
             0.7777777777777778,
             "#fb9f3a"
            ],
            [
             0.8888888888888888,
             "#fdca26"
            ],
            [
             1,
             "#f0f921"
            ]
           ]
          },
          "colorway": [
           "#636efa",
           "#EF553B",
           "#00cc96",
           "#ab63fa",
           "#FFA15A",
           "#19d3f3",
           "#FF6692",
           "#B6E880",
           "#FF97FF",
           "#FECB52"
          ],
          "font": {
           "color": "#2a3f5f"
          },
          "geo": {
           "bgcolor": "white",
           "lakecolor": "white",
           "landcolor": "#E5ECF6",
           "showlakes": true,
           "showland": true,
           "subunitcolor": "white"
          },
          "hoverlabel": {
           "align": "left"
          },
          "hovermode": "closest",
          "mapbox": {
           "style": "light"
          },
          "paper_bgcolor": "white",
          "plot_bgcolor": "#E5ECF6",
          "polar": {
           "angularaxis": {
            "gridcolor": "white",
            "linecolor": "white",
            "ticks": ""
           },
           "bgcolor": "#E5ECF6",
           "radialaxis": {
            "gridcolor": "white",
            "linecolor": "white",
            "ticks": ""
           }
          },
          "scene": {
           "xaxis": {
            "backgroundcolor": "#E5ECF6",
            "gridcolor": "white",
            "gridwidth": 2,
            "linecolor": "white",
            "showbackground": true,
            "ticks": "",
            "zerolinecolor": "white"
           },
           "yaxis": {
            "backgroundcolor": "#E5ECF6",
            "gridcolor": "white",
            "gridwidth": 2,
            "linecolor": "white",
            "showbackground": true,
            "ticks": "",
            "zerolinecolor": "white"
           },
           "zaxis": {
            "backgroundcolor": "#E5ECF6",
            "gridcolor": "white",
            "gridwidth": 2,
            "linecolor": "white",
            "showbackground": true,
            "ticks": "",
            "zerolinecolor": "white"
           }
          },
          "shapedefaults": {
           "line": {
            "color": "#2a3f5f"
           }
          },
          "ternary": {
           "aaxis": {
            "gridcolor": "white",
            "linecolor": "white",
            "ticks": ""
           },
           "baxis": {
            "gridcolor": "white",
            "linecolor": "white",
            "ticks": ""
           },
           "bgcolor": "#E5ECF6",
           "caxis": {
            "gridcolor": "white",
            "linecolor": "white",
            "ticks": ""
           }
          },
          "title": {
           "x": 0.05
          },
          "xaxis": {
           "automargin": true,
           "gridcolor": "white",
           "linecolor": "white",
           "ticks": "",
           "title": {
            "standoff": 15
           },
           "zerolinecolor": "white",
           "zerolinewidth": 2
          },
          "yaxis": {
           "automargin": true,
           "gridcolor": "white",
           "linecolor": "white",
           "ticks": "",
           "title": {
            "standoff": 15
           },
           "zerolinecolor": "white",
           "zerolinewidth": 2
          }
         }
        },
        "xaxis": {
         "autorange": true,
         "range": [
          -0.5,
          10.5
         ],
         "title": {
          "text": "tenure"
         },
         "type": "linear"
        },
        "yaxis": {
         "autorange": true,
         "range": [
          0,
          1103.157894736842
         ],
         "title": {
          "text": "customer_id"
         },
         "type": "linear"
        }
       }
      },
      "image/png": "[encoded data removed]",
      "text/html": [
       "<div>                            <div id=\"f09a784d-b558-4513-8ad7-9758ead6f89e\" class=\"plotly-graph-div\" style=\"height:525px; width:100%;\"></div>            <script type=\"text/javascript\">                require([\"plotly\"], function(Plotly) {                    window.PLOTLYENV=window.PLOTLYENV || {};                                    if (document.getElementById(\"f09a784d-b558-4513-8ad7-9758ead6f89e\")) {                    Plotly.newPlot(                        \"f09a784d-b558-4513-8ad7-9758ead6f89e\",                        [{\"x\":[0,1,2,3,4,5,6,7,8,9,10],\"y\":[413,1035,1048,1009,989,1012,967,1028,1025,984,490],\"type\":\"bar\"}],                        {\"template\":{\"data\":{\"histogram2dcontour\":[{\"type\":\"histogram2dcontour\",\"colorbar\":{\"outlinewidth\":0,\"ticks\":\"\"},\"colorscale\":[[0.0,\"#0d0887\"],[0.1111111111111111,\"#46039f\"],[0.2222222222222222,\"#7201a8\"],[0.3333333333333333,\"#9c179e\"],[0.4444444444444444,\"#bd3786\"],[0.5555555555555556,\"#d8576b\"],[0.6666666666666666,\"#ed7953\"],[0.7777777777777778,\"#fb9f3a\"],[0.8888888888888888,\"#fdca26\"],[1.0,\"#f0f921\"]]}],\"choropleth\":[{\"type\":\"choropleth\",\"colorbar\":{\"outlinewidth\":0,\"ticks\":\"\"}}],\"histogram2d\":[{\"type\":\"histogram2d\",\"colorbar\":{\"outlinewidth\":0,\"ticks\":\"\"},\"colorscale\":[[0.0,\"#0d0887\"],[0.1111111111111111,\"#46039f\"],[0.2222222222222222,\"#7201a8\"],[0.3333333333333333,\"#9c179e\"],[0.4444444444444444,\"#bd3786\"],[0.5555555555555556,\"#d8576b\"],[0.6666666666666666,\"#ed7953\"],[0.7777777777777778,\"#fb9f3a\"],[0.8888888888888888,\"#fdca26\"],[1.0,\"#f0f921\"]]}],\"heatmap\":[{\"type\":\"heatmap\",\"colorbar\":{\"outlinewidth\":0,\"ticks\":\"\"},\"colorscale\":[[0.0,\"#0d0887\"],[0.1111111111111111,\"#46039f\"],[0.2222222222222222,\"#7201a8\"],[0.3333333333333333,\"#9c179e\"],[0.4444444444444444,\"#bd3786\"],[0.5555555555555556,\"#d8576b\"],[0.6666666666666666,\"#ed7953\"],[0.7777777777777778,\"#fb9f3a\"],[0.8888888888888888,\"#fdca26\"],[1.0,\"#f0f921\"]]}],\"heatmapgl\":[{\"type\":\"heatmapgl\",\"colorbar\":{\"outlinewidth\":0,\"ticks\":\"\"},\"colorscale\":[[0.0,\"#0d0887\"],[0.1111111111111111,\"#46039f\"],[0.2222222222222222,\"#7201a8\"],[0.3333333333333333,\"#9c179e\"],[0.4444444444444444,\"#bd3786\"],[0.5555555555555556,\"#d8576b\"],[0.6666666666666666,\"#ed7953\"],[0.7777777777777778,\"#fb9f3a\"],[0.8888888888888888,\"#fdca26\"],[1.0,\"#f0f921\"]]}],\"contourcarpet\":[{\"type\":\"contourcarpet\",\"colorbar\":{\"outlinewidth\":0,\"ticks\":\"\"}}],\"contour\":[{\"type\":\"contour\",\"colorbar\":{\"outlinewidth\":0,\"ticks\":\"\"},\"colorscale\":[[0.0,\"#0d0887\"],[0.1111111111111111,\"#46039f\"],[0.2222222222222222,\"#7201a8\"],[0.3333333333333333,\"#9c179e\"],[0.4444444444444444,\"#bd3786\"],[0.5555555555555556,\"#d8576b\"],[0.6666666666666666,\"#ed7953\"],[0.7777777777777778,\"#fb9f3a\"],[0.8888888888888888,\"#fdca26\"],[1.0,\"#f0f921\"]]}],\"surface\":[{\"type\":\"surface\",\"colorbar\":{\"outlinewidth\":0,\"ticks\":\"\"},\"colorscale\":[[0.0,\"#0d0887\"],[0.1111111111111111,\"#46039f\"],[0.2222222222222222,\"#7201a8\"],[0.3333333333333333,\"#9c179e\"],[0.4444444444444444,\"#bd3786\"],[0.5555555555555556,\"#d8576b\"],[0.6666666666666666,\"#ed7953\"],[0.7777777777777778,\"#fb9f3a\"],[0.8888888888888888,\"#fdca26\"],[1.0,\"#f0f921\"]]}],\"mesh3d\":[{\"type\":\"mesh3d\",\"colorbar\":{\"outlinewidth\":0,\"ticks\":\"\"}}],\"scatter\":[{\"fillpattern\":{\"fillmode\":\"overlay\",\"size\":10,\"solidity\":0.2},\"type\":\"scatter\"}],\"parcoords\":[{\"type\":\"parcoords\",\"line\":{\"colorbar\":{\"outlinewidth\":0,\"ticks\":\"\"}}}],\"scatterpolargl\":[{\"type\":\"scatterpolargl\",\"marker\":{\"colorbar\":{\"outlinewidth\":0,\"ticks\":\"\"}}}],\"bar\":[{\"error_x\":{\"color\":\"#2a3f5f\"},\"error_y\":{\"color\":\"#2a3f5f\"},\"marker\":{\"line\":{\"color\":\"#E5ECF6\",\"width\":0.5},\"pattern\":{\"fillmode\":\"overlay\",\"size\":10,\"solidity\":0.2}},\"type\":\"bar\"}],\"scattergeo\":[{\"type\":\"scattergeo\",\"marker\":{\"colorbar\":{\"outlinewidth\":0,\"ticks\":\"\"}}}],\"scatterpolar\":[{\"type\":\"scatterpolar\",\"marker\":{\"colorbar\":{\"outlinewidth\":0,\"ticks\":\"\"}}}],\"histogram\":[{\"marker\":{\"pattern\":{\"fillmode\":\"overlay\",\"size\":10,\"solidity\":0.2}},\"type\":\"histogram\"}],\"scattergl\":[{\"type\":\"scattergl\",\"marker\":{\"colorbar\":{\"outlinewidth\":0,\"ticks\":\"\"}}}],\"scatter3d\":[{\"type\":\"scatter3d\",\"line\":{\"colorbar\":{\"outlinewidth\":0,\"ticks\":\"\"}},\"marker\":{\"colorbar\":{\"outlinewidth\":0,\"ticks\":\"\"}}}],\"scattermapbox\":[{\"type\":\"scattermapbox\",\"marker\":{\"colorbar\":{\"outlinewidth\":0,\"ticks\":\"\"}}}],\"scatterternary\":[{\"type\":\"scatterternary\",\"marker\":{\"colorbar\":{\"outlinewidth\":0,\"ticks\":\"\"}}}],\"scattercarpet\":[{\"type\":\"scattercarpet\",\"marker\":{\"colorbar\":{\"outlinewidth\":0,\"ticks\":\"\"}}}],\"carpet\":[{\"aaxis\":{\"endlinecolor\":\"#2a3f5f\",\"gridcolor\":\"white\",\"linecolor\":\"white\",\"minorgridcolor\":\"white\",\"startlinecolor\":\"#2a3f5f\"},\"baxis\":{\"endlinecolor\":\"#2a3f5f\",\"gridcolor\":\"white\",\"linecolor\":\"white\",\"minorgridcolor\":\"white\",\"startlinecolor\":\"#2a3f5f\"},\"type\":\"carpet\"}],\"table\":[{\"cells\":{\"fill\":{\"color\":\"#EBF0F8\"},\"line\":{\"color\":\"white\"}},\"header\":{\"fill\":{\"color\":\"#C8D4E3\"},\"line\":{\"color\":\"white\"}},\"type\":\"table\"}],\"barpolar\":[{\"marker\":{\"line\":{\"color\":\"#E5ECF6\",\"width\":0.5},\"pattern\":{\"fillmode\":\"overlay\",\"size\":10,\"solidity\":0.2}},\"type\":\"barpolar\"}],\"pie\":[{\"automargin\":true,\"type\":\"pie\"}]},\"layout\":{\"autotypenumbers\":\"strict\",\"colorway\":[\"#636efa\",\"#EF553B\",\"#00cc96\",\"#ab63fa\",\"#FFA15A\",\"#19d3f3\",\"#FF6692\",\"#B6E880\",\"#FF97FF\",\"#FECB52\"],\"font\":{\"color\":\"#2a3f5f\"},\"hovermode\":\"closest\",\"hoverlabel\":{\"align\":\"left\"},\"paper_bgcolor\":\"white\",\"plot_bgcolor\":\"#E5ECF6\",\"polar\":{\"bgcolor\":\"#E5ECF6\",\"angularaxis\":{\"gridcolor\":\"white\",\"linecolor\":\"white\",\"ticks\":\"\"},\"radialaxis\":{\"gridcolor\":\"white\",\"linecolor\":\"white\",\"ticks\":\"\"}},\"ternary\":{\"bgcolor\":\"#E5ECF6\",\"aaxis\":{\"gridcolor\":\"white\",\"linecolor\":\"white\",\"ticks\":\"\"},\"baxis\":{\"gridcolor\":\"white\",\"linecolor\":\"white\",\"ticks\":\"\"},\"caxis\":{\"gridcolor\":\"white\",\"linecolor\":\"white\",\"ticks\":\"\"}},\"coloraxis\":{\"colorbar\":{\"outlinewidth\":0,\"ticks\":\"\"}},\"colorscale\":{\"sequential\":[[0.0,\"#0d0887\"],[0.1111111111111111,\"#46039f\"],[0.2222222222222222,\"#7201a8\"],[0.3333333333333333,\"#9c179e\"],[0.4444444444444444,\"#bd3786\"],[0.5555555555555556,\"#d8576b\"],[0.6666666666666666,\"#ed7953\"],[0.7777777777777778,\"#fb9f3a\"],[0.8888888888888888,\"#fdca26\"],[1.0,\"#f0f921\"]],\"sequentialminus\":[[0.0,\"#0d0887\"],[0.1111111111111111,\"#46039f\"],[0.2222222222222222,\"#7201a8\"],[0.3333333333333333,\"#9c179e\"],[0.4444444444444444,\"#bd3786\"],[0.5555555555555556,\"#d8576b\"],[0.6666666666666666,\"#ed7953\"],[0.7777777777777778,\"#fb9f3a\"],[0.8888888888888888,\"#fdca26\"],[1.0,\"#f0f921\"]],\"diverging\":[[0,\"#8e0152\"],[0.1,\"#c51b7d\"],[0.2,\"#de77ae\"],[0.3,\"#f1b6da\"],[0.4,\"#fde0ef\"],[0.5,\"#f7f7f7\"],[0.6,\"#e6f5d0\"],[0.7,\"#b8e186\"],[0.8,\"#7fbc41\"],[0.9,\"#4d9221\"],[1,\"#276419\"]]},\"xaxis\":{\"gridcolor\":\"white\",\"linecolor\":\"white\",\"ticks\":\"\",\"title\":{\"standoff\":15},\"zerolinecolor\":\"white\",\"automargin\":true,\"zerolinewidth\":2},\"yaxis\":{\"gridcolor\":\"white\",\"linecolor\":\"white\",\"ticks\":\"\",\"title\":{\"standoff\":15},\"zerolinecolor\":\"white\",\"automargin\":true,\"zerolinewidth\":2},\"scene\":{\"xaxis\":{\"backgroundcolor\":\"#E5ECF6\",\"gridcolor\":\"white\",\"linecolor\":\"white\",\"showbackground\":true,\"ticks\":\"\",\"zerolinecolor\":\"white\",\"gridwidth\":2},\"yaxis\":{\"backgroundcolor\":\"#E5ECF6\",\"gridcolor\":\"white\",\"linecolor\":\"white\",\"showbackground\":true,\"ticks\":\"\",\"zerolinecolor\":\"white\",\"gridwidth\":2},\"zaxis\":{\"backgroundcolor\":\"#E5ECF6\",\"gridcolor\":\"white\",\"linecolor\":\"white\",\"showbackground\":true,\"ticks\":\"\",\"zerolinecolor\":\"white\",\"gridwidth\":2}},\"shapedefaults\":{\"line\":{\"color\":\"#2a3f5f\"}},\"annotationdefaults\":{\"arrowcolor\":\"#2a3f5f\",\"arrowhead\":0,\"arrowwidth\":1},\"geo\":{\"bgcolor\":\"white\",\"landcolor\":\"#E5ECF6\",\"subunitcolor\":\"white\",\"showland\":true,\"showlakes\":true,\"lakecolor\":\"white\"},\"title\":{\"x\":0.05},\"mapbox\":{\"style\":\"light\"}}},\"margin\":{\"pad\":20},\"xaxis\":{\"title\":{\"text\":\"tenure\"}},\"yaxis\":{\"title\":{\"text\":\"customer_id\"}}},                        {\"responsive\": true}                    ).then(function(){\n",
       "                            \n",
       "var gd = document.getElementById('f09a784d-b558-4513-8ad7-9758ead6f89e');\n",
       "var x = new MutationObserver(function (mutations, observer) {{\n",
       "        var display = window.getComputedStyle(gd).display;\n",
       "        if (!display || display === 'none') {{\n",
       "            console.log([gd, 'removed!']);\n",
       "            Plotly.purge(gd);\n",
       "            observer.disconnect();\n",
       "        }}\n",
       "}});\n",
       "\n",
       "// Listen for the removal of the full notebook cells\n",
       "var notebookContainer = gd.closest('#notebook-container');\n",
       "if (notebookContainer) {{\n",
       "    x.observe(notebookContainer, {childList: true});\n",
       "}}\n",
       "\n",
       "// Listen for the clearing of the current output cell\n",
       "var outputEl = gd.closest('.output');\n",
       "if (outputEl) {{\n",
       "    x.observe(outputEl, {childList: true});\n",
       "}}\n",
       "\n",
       "                        })                };                });            </script>        </div>"
      ]
     },
     "metadata": {},
     "output_type": "display_data"
    },
    {
     "data": {
      "text/plain": [
       "{'data': [{'x': [0, 1, 2, 3, 4, 5, 6, 7, 8, 9, 10],\n",
       "   'y': [413, 1035, 1048, 1009, 989, 1012, 967, 1028, 1025, 984, 490],\n",
       "   'type': 'bar'}],\n",
       " 'layout': {'template': {'data': {'histogram2dcontour': [{'type': 'histogram2dcontour',\n",
       "      'colorbar': {'outlinewidth': 0, 'ticks': ''},\n",
       "      'colorscale': [[0.0, '#0d0887'],\n",
       "       [0.1111111111111111, '#46039f'],\n",
       "       [0.2222222222222222, '#7201a8'],\n",
       "       [0.3333333333333333, '#9c179e'],\n",
       "       [0.4444444444444444, '#bd3786'],\n",
       "       [0.5555555555555556, '#d8576b'],\n",
       "       [0.6666666666666666, '#ed7953'],\n",
       "       [0.7777777777777778, '#fb9f3a'],\n",
       "       [0.8888888888888888, '#fdca26'],\n",
       "       [1.0, '#f0f921']]}],\n",
       "    'choropleth': [{'type': 'choropleth',\n",
       "      'colorbar': {'outlinewidth': 0, 'ticks': ''}}],\n",
       "    'histogram2d': [{'type': 'histogram2d',\n",
       "      'colorbar': {'outlinewidth': 0, 'ticks': ''},\n",
       "      'colorscale': [[0.0, '#0d0887'],\n",
       "       [0.1111111111111111, '#46039f'],\n",
       "       [0.2222222222222222, '#7201a8'],\n",
       "       [0.3333333333333333, '#9c179e'],\n",
       "       [0.4444444444444444, '#bd3786'],\n",
       "       [0.5555555555555556, '#d8576b'],\n",
       "       [0.6666666666666666, '#ed7953'],\n",
       "       [0.7777777777777778, '#fb9f3a'],\n",
       "       [0.8888888888888888, '#fdca26'],\n",
       "       [1.0, '#f0f921']]}],\n",
       "    'heatmap': [{'type': 'heatmap',\n",
       "      'colorbar': {'outlinewidth': 0, 'ticks': ''},\n",
       "      'colorscale': [[0.0, '#0d0887'],\n",
       "       [0.1111111111111111, '#46039f'],\n",
       "       [0.2222222222222222, '#7201a8'],\n",
       "       [0.3333333333333333, '#9c179e'],\n",
       "       [0.4444444444444444, '#bd3786'],\n",
       "       [0.5555555555555556, '#d8576b'],\n",
       "       [0.6666666666666666, '#ed7953'],\n",
       "       [0.7777777777777778, '#fb9f3a'],\n",
       "       [0.8888888888888888, '#fdca26'],\n",
       "       [1.0, '#f0f921']]}],\n",
       "    'heatmapgl': [{'type': 'heatmapgl',\n",
       "      'colorbar': {'outlinewidth': 0, 'ticks': ''},\n",
       "      'colorscale': [[0.0, '#0d0887'],\n",
       "       [0.1111111111111111, '#46039f'],\n",
       "       [0.2222222222222222, '#7201a8'],\n",
       "       [0.3333333333333333, '#9c179e'],\n",
       "       [0.4444444444444444, '#bd3786'],\n",
       "       [0.5555555555555556, '#d8576b'],\n",
       "       [0.6666666666666666, '#ed7953'],\n",
       "       [0.7777777777777778, '#fb9f3a'],\n",
       "       [0.8888888888888888, '#fdca26'],\n",
       "       [1.0, '#f0f921']]}],\n",
       "    'contourcarpet': [{'type': 'contourcarpet',\n",
       "      'colorbar': {'outlinewidth': 0, 'ticks': ''}}],\n",
       "    'contour': [{'type': 'contour',\n",
       "      'colorbar': {'outlinewidth': 0, 'ticks': ''},\n",
       "      'colorscale': [[0.0, '#0d0887'],\n",
       "       [0.1111111111111111, '#46039f'],\n",
       "       [0.2222222222222222, '#7201a8'],\n",
       "       [0.3333333333333333, '#9c179e'],\n",
       "       [0.4444444444444444, '#bd3786'],\n",
       "       [0.5555555555555556, '#d8576b'],\n",
       "       [0.6666666666666666, '#ed7953'],\n",
       "       [0.7777777777777778, '#fb9f3a'],\n",
       "       [0.8888888888888888, '#fdca26'],\n",
       "       [1.0, '#f0f921']]}],\n",
       "    'surface': [{'type': 'surface',\n",
       "      'colorbar': {'outlinewidth': 0, 'ticks': ''},\n",
       "      'colorscale': [[0.0, '#0d0887'],\n",
       "       [0.1111111111111111, '#46039f'],\n",
       "       [0.2222222222222222, '#7201a8'],\n",
       "       [0.3333333333333333, '#9c179e'],\n",
       "       [0.4444444444444444, '#bd3786'],\n",
       "       [0.5555555555555556, '#d8576b'],\n",
       "       [0.6666666666666666, '#ed7953'],\n",
       "       [0.7777777777777778, '#fb9f3a'],\n",
       "       [0.8888888888888888, '#fdca26'],\n",
       "       [1.0, '#f0f921']]}],\n",
       "    'mesh3d': [{'type': 'mesh3d',\n",
       "      'colorbar': {'outlinewidth': 0, 'ticks': ''}}],\n",
       "    'scatter': [{'fillpattern': {'fillmode': 'overlay',\n",
       "       'size': 10,\n",
       "       'solidity': 0.2},\n",
       "      'type': 'scatter'}],\n",
       "    'parcoords': [{'type': 'parcoords',\n",
       "      'line': {'colorbar': {'outlinewidth': 0, 'ticks': ''}}}],\n",
       "    'scatterpolargl': [{'type': 'scatterpolargl',\n",
       "      'marker': {'colorbar': {'outlinewidth': 0, 'ticks': ''}}}],\n",
       "    'bar': [{'error_x': {'color': '#2a3f5f'},\n",
       "      'error_y': {'color': '#2a3f5f'},\n",
       "      'marker': {'line': {'color': '#E5ECF6', 'width': 0.5},\n",
       "       'pattern': {'fillmode': 'overlay', 'size': 10, 'solidity': 0.2}},\n",
       "      'type': 'bar'}],\n",
       "    'scattergeo': [{'type': 'scattergeo',\n",
       "      'marker': {'colorbar': {'outlinewidth': 0, 'ticks': ''}}}],\n",
       "    'scatterpolar': [{'type': 'scatterpolar',\n",
       "      'marker': {'colorbar': {'outlinewidth': 0, 'ticks': ''}}}],\n",
       "    'histogram': [{'marker': {'pattern': {'fillmode': 'overlay',\n",
       "        'size': 10,\n",
       "        'solidity': 0.2}},\n",
       "      'type': 'histogram'}],\n",
       "    'scattergl': [{'type': 'scattergl',\n",
       "      'marker': {'colorbar': {'outlinewidth': 0, 'ticks': ''}}}],\n",
       "    'scatter3d': [{'type': 'scatter3d',\n",
       "      'line': {'colorbar': {'outlinewidth': 0, 'ticks': ''}},\n",
       "      'marker': {'colorbar': {'outlinewidth': 0, 'ticks': ''}}}],\n",
       "    'scattermapbox': [{'type': 'scattermapbox',\n",
       "      'marker': {'colorbar': {'outlinewidth': 0, 'ticks': ''}}}],\n",
       "    'scatterternary': [{'type': 'scatterternary',\n",
       "      'marker': {'colorbar': {'outlinewidth': 0, 'ticks': ''}}}],\n",
       "    'scattercarpet': [{'type': 'scattercarpet',\n",
       "      'marker': {'colorbar': {'outlinewidth': 0, 'ticks': ''}}}],\n",
       "    'carpet': [{'aaxis': {'endlinecolor': '#2a3f5f',\n",
       "       'gridcolor': 'white',\n",
       "       'linecolor': 'white',\n",
       "       'minorgridcolor': 'white',\n",
       "       'startlinecolor': '#2a3f5f'},\n",
       "      'baxis': {'endlinecolor': '#2a3f5f',\n",
       "       'gridcolor': 'white',\n",
       "       'linecolor': 'white',\n",
       "       'minorgridcolor': 'white',\n",
       "       'startlinecolor': '#2a3f5f'},\n",
       "      'type': 'carpet'}],\n",
       "    'table': [{'cells': {'fill': {'color': '#EBF0F8'},\n",
       "       'line': {'color': 'white'}},\n",
       "      'header': {'fill': {'color': '#C8D4E3'}, 'line': {'color': 'white'}},\n",
       "      'type': 'table'}],\n",
       "    'barpolar': [{'marker': {'line': {'color': '#E5ECF6', 'width': 0.5},\n",
       "       'pattern': {'fillmode': 'overlay', 'size': 10, 'solidity': 0.2}},\n",
       "      'type': 'barpolar'}],\n",
       "    'pie': [{'automargin': True, 'type': 'pie'}]},\n",
       "   'layout': {'autotypenumbers': 'strict',\n",
       "    'colorway': ['#636efa',\n",
       "     '#EF553B',\n",
       "     '#00cc96',\n",
       "     '#ab63fa',\n",
       "     '#FFA15A',\n",
       "     '#19d3f3',\n",
       "     '#FF6692',\n",
       "     '#B6E880',\n",
       "     '#FF97FF',\n",
       "     '#FECB52'],\n",
       "    'font': {'color': '#2a3f5f'},\n",
       "    'hovermode': 'closest',\n",
       "    'hoverlabel': {'align': 'left'},\n",
       "    'paper_bgcolor': 'white',\n",
       "    'plot_bgcolor': '#E5ECF6',\n",
       "    'polar': {'bgcolor': '#E5ECF6',\n",
       "     'angularaxis': {'gridcolor': 'white', 'linecolor': 'white', 'ticks': ''},\n",
       "     'radialaxis': {'gridcolor': 'white', 'linecolor': 'white', 'ticks': ''}},\n",
       "    'ternary': {'bgcolor': '#E5ECF6',\n",
       "     'aaxis': {'gridcolor': 'white', 'linecolor': 'white', 'ticks': ''},\n",
       "     'baxis': {'gridcolor': 'white', 'linecolor': 'white', 'ticks': ''},\n",
       "     'caxis': {'gridcolor': 'white', 'linecolor': 'white', 'ticks': ''}},\n",
       "    'coloraxis': {'colorbar': {'outlinewidth': 0, 'ticks': ''}},\n",
       "    'colorscale': {'sequential': [[0.0, '#0d0887'],\n",
       "      [0.1111111111111111, '#46039f'],\n",
       "      [0.2222222222222222, '#7201a8'],\n",
       "      [0.3333333333333333, '#9c179e'],\n",
       "      [0.4444444444444444, '#bd3786'],\n",
       "      [0.5555555555555556, '#d8576b'],\n",
       "      [0.6666666666666666, '#ed7953'],\n",
       "      [0.7777777777777778, '#fb9f3a'],\n",
       "      [0.8888888888888888, '#fdca26'],\n",
       "      [1.0, '#f0f921']],\n",
       "     'sequentialminus': [[0.0, '#0d0887'],\n",
       "      [0.1111111111111111, '#46039f'],\n",
       "      [0.2222222222222222, '#7201a8'],\n",
       "      [0.3333333333333333, '#9c179e'],\n",
       "      [0.4444444444444444, '#bd3786'],\n",
       "      [0.5555555555555556, '#d8576b'],\n",
       "      [0.6666666666666666, '#ed7953'],\n",
       "      [0.7777777777777778, '#fb9f3a'],\n",
       "      [0.8888888888888888, '#fdca26'],\n",
       "      [1.0, '#f0f921']],\n",
       "     'diverging': [[0, '#8e0152'],\n",
       "      [0.1, '#c51b7d'],\n",
       "      [0.2, '#de77ae'],\n",
       "      [0.3, '#f1b6da'],\n",
       "      [0.4, '#fde0ef'],\n",
       "      [0.5, '#f7f7f7'],\n",
       "      [0.6, '#e6f5d0'],\n",
       "      [0.7, '#b8e186'],\n",
       "      [0.8, '#7fbc41'],\n",
       "      [0.9, '#4d9221'],\n",
       "      [1, '#276419']]},\n",
       "    'xaxis': {'gridcolor': 'white',\n",
       "     'linecolor': 'white',\n",
       "     'ticks': '',\n",
       "     'title': {'standoff': 15},\n",
       "     'zerolinecolor': 'white',\n",
       "     'automargin': True,\n",
       "     'zerolinewidth': 2},\n",
       "    'yaxis': {'gridcolor': 'white',\n",
       "     'linecolor': 'white',\n",
       "     'ticks': '',\n",
       "     'title': {'standoff': 15},\n",
       "     'zerolinecolor': 'white',\n",
       "     'automargin': True,\n",
       "     'zerolinewidth': 2},\n",
       "    'scene': {'xaxis': {'backgroundcolor': '#E5ECF6',\n",
       "      'gridcolor': 'white',\n",
       "      'linecolor': 'white',\n",
       "      'showbackground': True,\n",
       "      'ticks': '',\n",
       "      'zerolinecolor': 'white',\n",
       "      'gridwidth': 2},\n",
       "     'yaxis': {'backgroundcolor': '#E5ECF6',\n",
       "      'gridcolor': 'white',\n",
       "      'linecolor': 'white',\n",
       "      'showbackground': True,\n",
       "      'ticks': '',\n",
       "      'zerolinecolor': 'white',\n",
       "      'gridwidth': 2},\n",
       "     'zaxis': {'backgroundcolor': '#E5ECF6',\n",
       "      'gridcolor': 'white',\n",
       "      'linecolor': 'white',\n",
       "      'showbackground': True,\n",
       "      'ticks': '',\n",
       "      'zerolinecolor': 'white',\n",
       "      'gridwidth': 2}},\n",
       "    'shapedefaults': {'line': {'color': '#2a3f5f'}},\n",
       "    'annotationdefaults': {'arrowcolor': '#2a3f5f',\n",
       "     'arrowhead': 0,\n",
       "     'arrowwidth': 1},\n",
       "    'geo': {'bgcolor': 'white',\n",
       "     'landcolor': '#E5ECF6',\n",
       "     'subunitcolor': 'white',\n",
       "     'showland': True,\n",
       "     'showlakes': True,\n",
       "     'lakecolor': 'white'},\n",
       "    'title': {'x': 0.05},\n",
       "    'mapbox': {'style': 'light'}}},\n",
       "  'margin': {'pad': 20},\n",
       "  'xaxis': {'title': {'text': 'tenure'}},\n",
       "  'yaxis': {'title': {'text': 'customer_id'}}}}"
      ]
     },
     "execution_count": 53,
     "metadata": {},
     "output_type": "execute_result"
    }
   ],
   "source": [
    "plotly_graph.generate_plotly_graph(data_dict=chart_config)"
   ]
  },
  {
   "cell_type": "code",
   "execution_count": null,
   "id": "e64f8fc5-27e9-4888-a330-ed5a3b835bb1",
   "metadata": {},
   "outputs": [],
   "source": []
  },
  {
   "cell_type": "code",
   "execution_count": null,
   "id": "a3d90690-93ee-4994-a742-6602421d530f",
   "metadata": {},
   "outputs": [],
   "source": []
  }
 ],
 "metadata": {
  "kernelspec": {
   "display_name": "Python 3 (ipykernel)",
   "language": "python",
   "name": "python3"
  },
  "language_info": {
   "codemirror_mode": {
    "name": "ipython",
    "version": 3
   },
   "file_extension": ".py",
   "mimetype": "text/x-python",
   "name": "python",
   "nbconvert_exporter": "python",
   "pygments_lexer": "ipython3",
   "version": "3.11.7"
  },
  "widgets": {
   "application/vnd.jupyter.widget-state+json": {
    "state": {},
    "version_major": 2,
    "version_minor": 0
   }
  }
 },
 "nbformat": 4,
 "nbformat_minor": 5
}
